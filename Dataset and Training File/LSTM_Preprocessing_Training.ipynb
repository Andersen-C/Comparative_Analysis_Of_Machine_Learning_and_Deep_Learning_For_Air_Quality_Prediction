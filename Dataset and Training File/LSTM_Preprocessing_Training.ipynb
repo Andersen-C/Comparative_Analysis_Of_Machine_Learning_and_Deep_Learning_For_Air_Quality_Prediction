{
  "nbformat": 4,
  "nbformat_minor": 0,
  "metadata": {
    "colab": {
      "provenance": [],
      "gpuType": "T4"
    },
    "kernelspec": {
      "name": "python3",
      "display_name": "Python 3"
    },
    "language_info": {
      "name": "python"
    },
    "accelerator": "GPU"
  },
  "cells": [
    {
      "cell_type": "code",
      "execution_count": 1,
      "metadata": {
        "colab": {
          "base_uri": "https://localhost:8080/"
        },
        "id": "y6lpM6EutzjZ",
        "outputId": "1a603d07-3470-49c3-8e5d-aa2744bd40ba"
      },
      "outputs": [
        {
          "output_type": "stream",
          "name": "stdout",
          "text": [
            "Collecting keras-tuner\n",
            "  Downloading keras_tuner-1.4.7-py3-none-any.whl.metadata (5.4 kB)\n",
            "Requirement already satisfied: keras in /usr/local/lib/python3.11/dist-packages (from keras-tuner) (3.8.0)\n",
            "Requirement already satisfied: packaging in /usr/local/lib/python3.11/dist-packages (from keras-tuner) (25.0)\n",
            "Requirement already satisfied: requests in /usr/local/lib/python3.11/dist-packages (from keras-tuner) (2.32.3)\n",
            "Collecting kt-legacy (from keras-tuner)\n",
            "  Downloading kt_legacy-1.0.5-py3-none-any.whl.metadata (221 bytes)\n",
            "Requirement already satisfied: absl-py in /usr/local/lib/python3.11/dist-packages (from keras->keras-tuner) (1.4.0)\n",
            "Requirement already satisfied: numpy in /usr/local/lib/python3.11/dist-packages (from keras->keras-tuner) (2.0.2)\n",
            "Requirement already satisfied: rich in /usr/local/lib/python3.11/dist-packages (from keras->keras-tuner) (13.9.4)\n",
            "Requirement already satisfied: namex in /usr/local/lib/python3.11/dist-packages (from keras->keras-tuner) (0.1.0)\n",
            "Requirement already satisfied: h5py in /usr/local/lib/python3.11/dist-packages (from keras->keras-tuner) (3.14.0)\n",
            "Requirement already satisfied: optree in /usr/local/lib/python3.11/dist-packages (from keras->keras-tuner) (0.16.0)\n",
            "Requirement already satisfied: ml-dtypes in /usr/local/lib/python3.11/dist-packages (from keras->keras-tuner) (0.4.1)\n",
            "Requirement already satisfied: charset-normalizer<4,>=2 in /usr/local/lib/python3.11/dist-packages (from requests->keras-tuner) (3.4.2)\n",
            "Requirement already satisfied: idna<4,>=2.5 in /usr/local/lib/python3.11/dist-packages (from requests->keras-tuner) (3.10)\n",
            "Requirement already satisfied: urllib3<3,>=1.21.1 in /usr/local/lib/python3.11/dist-packages (from requests->keras-tuner) (2.4.0)\n",
            "Requirement already satisfied: certifi>=2017.4.17 in /usr/local/lib/python3.11/dist-packages (from requests->keras-tuner) (2025.7.14)\n",
            "Requirement already satisfied: typing-extensions>=4.6.0 in /usr/local/lib/python3.11/dist-packages (from optree->keras->keras-tuner) (4.14.1)\n",
            "Requirement already satisfied: markdown-it-py>=2.2.0 in /usr/local/lib/python3.11/dist-packages (from rich->keras->keras-tuner) (3.0.0)\n",
            "Requirement already satisfied: pygments<3.0.0,>=2.13.0 in /usr/local/lib/python3.11/dist-packages (from rich->keras->keras-tuner) (2.19.2)\n",
            "Requirement already satisfied: mdurl~=0.1 in /usr/local/lib/python3.11/dist-packages (from markdown-it-py>=2.2.0->rich->keras->keras-tuner) (0.1.2)\n",
            "Downloading keras_tuner-1.4.7-py3-none-any.whl (129 kB)\n",
            "\u001b[2K   \u001b[90m━━━━━━━━━━━━━━━━━━━━━━━━━━━━━━━━━━━━━━━━\u001b[0m \u001b[32m129.1/129.1 kB\u001b[0m \u001b[31m5.0 MB/s\u001b[0m eta \u001b[36m0:00:00\u001b[0m\n",
            "\u001b[?25hDownloading kt_legacy-1.0.5-py3-none-any.whl (9.6 kB)\n",
            "Installing collected packages: kt-legacy, keras-tuner\n",
            "Successfully installed keras-tuner-1.4.7 kt-legacy-1.0.5\n"
          ]
        }
      ],
      "source": [
        "pip install keras-tuner --upgrade"
      ]
    },
    {
      "cell_type": "code",
      "source": [
        "import pandas as pd\n",
        "import seaborn as sns\n",
        "import matplotlib.pyplot as plt\n",
        "from tensorflow import keras\n",
        "from sklearn.preprocessing import MinMaxScaler\n",
        "import numpy as np\n",
        "from tensorflow.keras import layers, optimizers\n",
        "from sklearn.metrics import root_mean_squared_error, mean_absolute_error, r2_score, mean_squared_error, mean_absolute_percentage_error\n",
        "import keras_tuner as kt\n",
        "from tensorflow.keras.metrics import MeanAbsoluteError, RootMeanSquaredError\n",
        "import shap\n",
        "import joblib\n",
        "import time, psutil, os"
      ],
      "metadata": {
        "id": "quhtIFvft-4R"
      },
      "execution_count": 2,
      "outputs": []
    },
    {
      "cell_type": "code",
      "source": [
        "df = pd.read_csv(\"/content/combined_dataset.csv\")\n",
        "df"
      ],
      "metadata": {
        "colab": {
          "base_uri": "https://localhost:8080/",
          "height": 617
        },
        "id": "t1O80N_2uAxm",
        "outputId": "74ddf970-3917-4e27-eafc-4ff7584239e5"
      },
      "execution_count": 3,
      "outputs": [
        {
          "output_type": "execute_result",
          "data": {
            "text/plain": [
              "                valid_time           pm1          pm10         pm2p5  \\\n",
              "0      2020-01-01 00:00:00  3.345133e-08  5.768080e-08  4.015858e-08   \n",
              "1      2020-01-01 03:00:00  2.059538e-08  3.735071e-08  2.564554e-08   \n",
              "2      2020-01-01 06:00:00  1.791439e-08  3.368978e-08  2.290612e-08   \n",
              "3      2020-01-01 09:00:00  1.998871e-08  3.664903e-08  2.508832e-08   \n",
              "4      2020-01-01 12:00:00  4.263052e-08  7.215669e-08  5.050946e-08   \n",
              "...                    ...           ...           ...           ...   \n",
              "43099  2024-11-30 09:00:00  9.770935e-08  1.613397e-07  1.143496e-07   \n",
              "43100  2024-11-30 12:00:00  1.998515e-07  3.276284e-07  2.325008e-07   \n",
              "43101  2024-11-30 15:00:00  3.359677e-07  5.503197e-07  3.902109e-07   \n",
              "43102  2024-11-30 18:00:00  2.725615e-07  4.481371e-07  3.173912e-07   \n",
              "43103  2024-11-30 21:00:00  2.419761e-07  3.995414e-07  2.826671e-07   \n",
              "\n",
              "       bcaod550    aod550  omaod550     tcno2     tcso2     gtco3      tcco  \\\n",
              "0      0.007324  0.325636  0.169562  0.000007  0.000004  0.005458  0.001034   \n",
              "1      0.006835  0.349546  0.168343  0.000004  0.000005  0.005518  0.001016   \n",
              "2      0.006645  0.341853  0.150293  0.000002  0.000004  0.005531  0.000990   \n",
              "3      0.006841  0.399741  0.161010  0.000002  0.000004  0.005496  0.000973   \n",
              "4      0.006944  0.342090  0.148887  0.000006  0.000004  0.005465  0.000983   \n",
              "...         ...       ...       ...       ...       ...       ...       ...   \n",
              "43099  0.024108  0.590681  0.377568  0.000006  0.000016  0.005727  0.001818   \n",
              "43100  0.025710  0.627246  0.393695  0.000008  0.000017  0.005720  0.001857   \n",
              "43101  0.025986  0.645980  0.410317  0.000006  0.000016  0.005697  0.001881   \n",
              "43102  0.023716  0.595244  0.387847  0.000007  0.000015  0.005670  0.001766   \n",
              "43103  0.022720  0.597006  0.394083  0.000008  0.000015  0.005671  0.001656   \n",
              "\n",
              "            u10       v10        d2m        t2m         sp          blh  \\\n",
              "0     -0.359210  0.270797  296.81027  297.75190  99084.750   107.451950   \n",
              "1      0.884590 -0.294573  295.98276  297.98282  99184.310   557.089360   \n",
              "2      0.906228 -0.244612  295.98886  299.19520  99048.560   445.996340   \n",
              "3     -0.222746  0.717506  295.82938  299.81622  98837.810   248.201130   \n",
              "4     -0.542103 -0.112552  296.41980  298.39337  99058.625    30.429886   \n",
              "...         ...       ...        ...        ...        ...          ...   \n",
              "43099  0.796195 -2.069528  282.28564  298.98267  98671.270  1041.326700   \n",
              "43100  2.042600 -1.776162  285.38733  294.98130  98567.600    75.574490   \n",
              "43101  2.276846  0.024371  284.59372  289.50815  98727.610    35.184097   \n",
              "43102  2.021152 -0.741631  283.81998  287.68220  98741.000    38.592712   \n",
              "43103  1.423451 -1.555263  283.22156  286.22010  98684.555    46.677765   \n",
              "\n",
              "             tp          ssrd     city  \n",
              "0      0.000400  1.539016e+05  Jakarta  \n",
              "1      0.000466  7.752381e+05  Jakarta  \n",
              "2      0.001658  7.483241e+05  Jakarta  \n",
              "3      0.000577  6.134947e+05  Jakarta  \n",
              "4      0.000662  7.167915e+02  Jakarta  \n",
              "...         ...           ...      ...  \n",
              "43099  0.000000  1.951098e+06    Delhi  \n",
              "43100  0.000000  1.667239e+05    Delhi  \n",
              "43101  0.000000  0.000000e+00    Delhi  \n",
              "43102  0.000000  0.000000e+00    Delhi  \n",
              "43103  0.000000  0.000000e+00    Delhi  \n",
              "\n",
              "[43104 rows x 20 columns]"
            ],
            "text/html": [
              "\n",
              "  <div id=\"df-2efef8ec-80cb-4057-a0db-bb9b144b6ebc\" class=\"colab-df-container\">\n",
              "    <div>\n",
              "<style scoped>\n",
              "    .dataframe tbody tr th:only-of-type {\n",
              "        vertical-align: middle;\n",
              "    }\n",
              "\n",
              "    .dataframe tbody tr th {\n",
              "        vertical-align: top;\n",
              "    }\n",
              "\n",
              "    .dataframe thead th {\n",
              "        text-align: right;\n",
              "    }\n",
              "</style>\n",
              "<table border=\"1\" class=\"dataframe\">\n",
              "  <thead>\n",
              "    <tr style=\"text-align: right;\">\n",
              "      <th></th>\n",
              "      <th>valid_time</th>\n",
              "      <th>pm1</th>\n",
              "      <th>pm10</th>\n",
              "      <th>pm2p5</th>\n",
              "      <th>bcaod550</th>\n",
              "      <th>aod550</th>\n",
              "      <th>omaod550</th>\n",
              "      <th>tcno2</th>\n",
              "      <th>tcso2</th>\n",
              "      <th>gtco3</th>\n",
              "      <th>tcco</th>\n",
              "      <th>u10</th>\n",
              "      <th>v10</th>\n",
              "      <th>d2m</th>\n",
              "      <th>t2m</th>\n",
              "      <th>sp</th>\n",
              "      <th>blh</th>\n",
              "      <th>tp</th>\n",
              "      <th>ssrd</th>\n",
              "      <th>city</th>\n",
              "    </tr>\n",
              "  </thead>\n",
              "  <tbody>\n",
              "    <tr>\n",
              "      <th>0</th>\n",
              "      <td>2020-01-01 00:00:00</td>\n",
              "      <td>3.345133e-08</td>\n",
              "      <td>5.768080e-08</td>\n",
              "      <td>4.015858e-08</td>\n",
              "      <td>0.007324</td>\n",
              "      <td>0.325636</td>\n",
              "      <td>0.169562</td>\n",
              "      <td>0.000007</td>\n",
              "      <td>0.000004</td>\n",
              "      <td>0.005458</td>\n",
              "      <td>0.001034</td>\n",
              "      <td>-0.359210</td>\n",
              "      <td>0.270797</td>\n",
              "      <td>296.81027</td>\n",
              "      <td>297.75190</td>\n",
              "      <td>99084.750</td>\n",
              "      <td>107.451950</td>\n",
              "      <td>0.000400</td>\n",
              "      <td>1.539016e+05</td>\n",
              "      <td>Jakarta</td>\n",
              "    </tr>\n",
              "    <tr>\n",
              "      <th>1</th>\n",
              "      <td>2020-01-01 03:00:00</td>\n",
              "      <td>2.059538e-08</td>\n",
              "      <td>3.735071e-08</td>\n",
              "      <td>2.564554e-08</td>\n",
              "      <td>0.006835</td>\n",
              "      <td>0.349546</td>\n",
              "      <td>0.168343</td>\n",
              "      <td>0.000004</td>\n",
              "      <td>0.000005</td>\n",
              "      <td>0.005518</td>\n",
              "      <td>0.001016</td>\n",
              "      <td>0.884590</td>\n",
              "      <td>-0.294573</td>\n",
              "      <td>295.98276</td>\n",
              "      <td>297.98282</td>\n",
              "      <td>99184.310</td>\n",
              "      <td>557.089360</td>\n",
              "      <td>0.000466</td>\n",
              "      <td>7.752381e+05</td>\n",
              "      <td>Jakarta</td>\n",
              "    </tr>\n",
              "    <tr>\n",
              "      <th>2</th>\n",
              "      <td>2020-01-01 06:00:00</td>\n",
              "      <td>1.791439e-08</td>\n",
              "      <td>3.368978e-08</td>\n",
              "      <td>2.290612e-08</td>\n",
              "      <td>0.006645</td>\n",
              "      <td>0.341853</td>\n",
              "      <td>0.150293</td>\n",
              "      <td>0.000002</td>\n",
              "      <td>0.000004</td>\n",
              "      <td>0.005531</td>\n",
              "      <td>0.000990</td>\n",
              "      <td>0.906228</td>\n",
              "      <td>-0.244612</td>\n",
              "      <td>295.98886</td>\n",
              "      <td>299.19520</td>\n",
              "      <td>99048.560</td>\n",
              "      <td>445.996340</td>\n",
              "      <td>0.001658</td>\n",
              "      <td>7.483241e+05</td>\n",
              "      <td>Jakarta</td>\n",
              "    </tr>\n",
              "    <tr>\n",
              "      <th>3</th>\n",
              "      <td>2020-01-01 09:00:00</td>\n",
              "      <td>1.998871e-08</td>\n",
              "      <td>3.664903e-08</td>\n",
              "      <td>2.508832e-08</td>\n",
              "      <td>0.006841</td>\n",
              "      <td>0.399741</td>\n",
              "      <td>0.161010</td>\n",
              "      <td>0.000002</td>\n",
              "      <td>0.000004</td>\n",
              "      <td>0.005496</td>\n",
              "      <td>0.000973</td>\n",
              "      <td>-0.222746</td>\n",
              "      <td>0.717506</td>\n",
              "      <td>295.82938</td>\n",
              "      <td>299.81622</td>\n",
              "      <td>98837.810</td>\n",
              "      <td>248.201130</td>\n",
              "      <td>0.000577</td>\n",
              "      <td>6.134947e+05</td>\n",
              "      <td>Jakarta</td>\n",
              "    </tr>\n",
              "    <tr>\n",
              "      <th>4</th>\n",
              "      <td>2020-01-01 12:00:00</td>\n",
              "      <td>4.263052e-08</td>\n",
              "      <td>7.215669e-08</td>\n",
              "      <td>5.050946e-08</td>\n",
              "      <td>0.006944</td>\n",
              "      <td>0.342090</td>\n",
              "      <td>0.148887</td>\n",
              "      <td>0.000006</td>\n",
              "      <td>0.000004</td>\n",
              "      <td>0.005465</td>\n",
              "      <td>0.000983</td>\n",
              "      <td>-0.542103</td>\n",
              "      <td>-0.112552</td>\n",
              "      <td>296.41980</td>\n",
              "      <td>298.39337</td>\n",
              "      <td>99058.625</td>\n",
              "      <td>30.429886</td>\n",
              "      <td>0.000662</td>\n",
              "      <td>7.167915e+02</td>\n",
              "      <td>Jakarta</td>\n",
              "    </tr>\n",
              "    <tr>\n",
              "      <th>...</th>\n",
              "      <td>...</td>\n",
              "      <td>...</td>\n",
              "      <td>...</td>\n",
              "      <td>...</td>\n",
              "      <td>...</td>\n",
              "      <td>...</td>\n",
              "      <td>...</td>\n",
              "      <td>...</td>\n",
              "      <td>...</td>\n",
              "      <td>...</td>\n",
              "      <td>...</td>\n",
              "      <td>...</td>\n",
              "      <td>...</td>\n",
              "      <td>...</td>\n",
              "      <td>...</td>\n",
              "      <td>...</td>\n",
              "      <td>...</td>\n",
              "      <td>...</td>\n",
              "      <td>...</td>\n",
              "      <td>...</td>\n",
              "    </tr>\n",
              "    <tr>\n",
              "      <th>43099</th>\n",
              "      <td>2024-11-30 09:00:00</td>\n",
              "      <td>9.770935e-08</td>\n",
              "      <td>1.613397e-07</td>\n",
              "      <td>1.143496e-07</td>\n",
              "      <td>0.024108</td>\n",
              "      <td>0.590681</td>\n",
              "      <td>0.377568</td>\n",
              "      <td>0.000006</td>\n",
              "      <td>0.000016</td>\n",
              "      <td>0.005727</td>\n",
              "      <td>0.001818</td>\n",
              "      <td>0.796195</td>\n",
              "      <td>-2.069528</td>\n",
              "      <td>282.28564</td>\n",
              "      <td>298.98267</td>\n",
              "      <td>98671.270</td>\n",
              "      <td>1041.326700</td>\n",
              "      <td>0.000000</td>\n",
              "      <td>1.951098e+06</td>\n",
              "      <td>Delhi</td>\n",
              "    </tr>\n",
              "    <tr>\n",
              "      <th>43100</th>\n",
              "      <td>2024-11-30 12:00:00</td>\n",
              "      <td>1.998515e-07</td>\n",
              "      <td>3.276284e-07</td>\n",
              "      <td>2.325008e-07</td>\n",
              "      <td>0.025710</td>\n",
              "      <td>0.627246</td>\n",
              "      <td>0.393695</td>\n",
              "      <td>0.000008</td>\n",
              "      <td>0.000017</td>\n",
              "      <td>0.005720</td>\n",
              "      <td>0.001857</td>\n",
              "      <td>2.042600</td>\n",
              "      <td>-1.776162</td>\n",
              "      <td>285.38733</td>\n",
              "      <td>294.98130</td>\n",
              "      <td>98567.600</td>\n",
              "      <td>75.574490</td>\n",
              "      <td>0.000000</td>\n",
              "      <td>1.667239e+05</td>\n",
              "      <td>Delhi</td>\n",
              "    </tr>\n",
              "    <tr>\n",
              "      <th>43101</th>\n",
              "      <td>2024-11-30 15:00:00</td>\n",
              "      <td>3.359677e-07</td>\n",
              "      <td>5.503197e-07</td>\n",
              "      <td>3.902109e-07</td>\n",
              "      <td>0.025986</td>\n",
              "      <td>0.645980</td>\n",
              "      <td>0.410317</td>\n",
              "      <td>0.000006</td>\n",
              "      <td>0.000016</td>\n",
              "      <td>0.005697</td>\n",
              "      <td>0.001881</td>\n",
              "      <td>2.276846</td>\n",
              "      <td>0.024371</td>\n",
              "      <td>284.59372</td>\n",
              "      <td>289.50815</td>\n",
              "      <td>98727.610</td>\n",
              "      <td>35.184097</td>\n",
              "      <td>0.000000</td>\n",
              "      <td>0.000000e+00</td>\n",
              "      <td>Delhi</td>\n",
              "    </tr>\n",
              "    <tr>\n",
              "      <th>43102</th>\n",
              "      <td>2024-11-30 18:00:00</td>\n",
              "      <td>2.725615e-07</td>\n",
              "      <td>4.481371e-07</td>\n",
              "      <td>3.173912e-07</td>\n",
              "      <td>0.023716</td>\n",
              "      <td>0.595244</td>\n",
              "      <td>0.387847</td>\n",
              "      <td>0.000007</td>\n",
              "      <td>0.000015</td>\n",
              "      <td>0.005670</td>\n",
              "      <td>0.001766</td>\n",
              "      <td>2.021152</td>\n",
              "      <td>-0.741631</td>\n",
              "      <td>283.81998</td>\n",
              "      <td>287.68220</td>\n",
              "      <td>98741.000</td>\n",
              "      <td>38.592712</td>\n",
              "      <td>0.000000</td>\n",
              "      <td>0.000000e+00</td>\n",
              "      <td>Delhi</td>\n",
              "    </tr>\n",
              "    <tr>\n",
              "      <th>43103</th>\n",
              "      <td>2024-11-30 21:00:00</td>\n",
              "      <td>2.419761e-07</td>\n",
              "      <td>3.995414e-07</td>\n",
              "      <td>2.826671e-07</td>\n",
              "      <td>0.022720</td>\n",
              "      <td>0.597006</td>\n",
              "      <td>0.394083</td>\n",
              "      <td>0.000008</td>\n",
              "      <td>0.000015</td>\n",
              "      <td>0.005671</td>\n",
              "      <td>0.001656</td>\n",
              "      <td>1.423451</td>\n",
              "      <td>-1.555263</td>\n",
              "      <td>283.22156</td>\n",
              "      <td>286.22010</td>\n",
              "      <td>98684.555</td>\n",
              "      <td>46.677765</td>\n",
              "      <td>0.000000</td>\n",
              "      <td>0.000000e+00</td>\n",
              "      <td>Delhi</td>\n",
              "    </tr>\n",
              "  </tbody>\n",
              "</table>\n",
              "<p>43104 rows × 20 columns</p>\n",
              "</div>\n",
              "    <div class=\"colab-df-buttons\">\n",
              "\n",
              "  <div class=\"colab-df-container\">\n",
              "    <button class=\"colab-df-convert\" onclick=\"convertToInteractive('df-2efef8ec-80cb-4057-a0db-bb9b144b6ebc')\"\n",
              "            title=\"Convert this dataframe to an interactive table.\"\n",
              "            style=\"display:none;\">\n",
              "\n",
              "  <svg xmlns=\"http://www.w3.org/2000/svg\" height=\"24px\" viewBox=\"0 -960 960 960\">\n",
              "    <path d=\"M120-120v-720h720v720H120Zm60-500h600v-160H180v160Zm220 220h160v-160H400v160Zm0 220h160v-160H400v160ZM180-400h160v-160H180v160Zm440 0h160v-160H620v160ZM180-180h160v-160H180v160Zm440 0h160v-160H620v160Z\"/>\n",
              "  </svg>\n",
              "    </button>\n",
              "\n",
              "  <style>\n",
              "    .colab-df-container {\n",
              "      display:flex;\n",
              "      gap: 12px;\n",
              "    }\n",
              "\n",
              "    .colab-df-convert {\n",
              "      background-color: #E8F0FE;\n",
              "      border: none;\n",
              "      border-radius: 50%;\n",
              "      cursor: pointer;\n",
              "      display: none;\n",
              "      fill: #1967D2;\n",
              "      height: 32px;\n",
              "      padding: 0 0 0 0;\n",
              "      width: 32px;\n",
              "    }\n",
              "\n",
              "    .colab-df-convert:hover {\n",
              "      background-color: #E2EBFA;\n",
              "      box-shadow: 0px 1px 2px rgba(60, 64, 67, 0.3), 0px 1px 3px 1px rgba(60, 64, 67, 0.15);\n",
              "      fill: #174EA6;\n",
              "    }\n",
              "\n",
              "    .colab-df-buttons div {\n",
              "      margin-bottom: 4px;\n",
              "    }\n",
              "\n",
              "    [theme=dark] .colab-df-convert {\n",
              "      background-color: #3B4455;\n",
              "      fill: #D2E3FC;\n",
              "    }\n",
              "\n",
              "    [theme=dark] .colab-df-convert:hover {\n",
              "      background-color: #434B5C;\n",
              "      box-shadow: 0px 1px 3px 1px rgba(0, 0, 0, 0.15);\n",
              "      filter: drop-shadow(0px 1px 2px rgba(0, 0, 0, 0.3));\n",
              "      fill: #FFFFFF;\n",
              "    }\n",
              "  </style>\n",
              "\n",
              "    <script>\n",
              "      const buttonEl =\n",
              "        document.querySelector('#df-2efef8ec-80cb-4057-a0db-bb9b144b6ebc button.colab-df-convert');\n",
              "      buttonEl.style.display =\n",
              "        google.colab.kernel.accessAllowed ? 'block' : 'none';\n",
              "\n",
              "      async function convertToInteractive(key) {\n",
              "        const element = document.querySelector('#df-2efef8ec-80cb-4057-a0db-bb9b144b6ebc');\n",
              "        const dataTable =\n",
              "          await google.colab.kernel.invokeFunction('convertToInteractive',\n",
              "                                                    [key], {});\n",
              "        if (!dataTable) return;\n",
              "\n",
              "        const docLinkHtml = 'Like what you see? Visit the ' +\n",
              "          '<a target=\"_blank\" href=https://colab.research.google.com/notebooks/data_table.ipynb>data table notebook</a>'\n",
              "          + ' to learn more about interactive tables.';\n",
              "        element.innerHTML = '';\n",
              "        dataTable['output_type'] = 'display_data';\n",
              "        await google.colab.output.renderOutput(dataTable, element);\n",
              "        const docLink = document.createElement('div');\n",
              "        docLink.innerHTML = docLinkHtml;\n",
              "        element.appendChild(docLink);\n",
              "      }\n",
              "    </script>\n",
              "  </div>\n",
              "\n",
              "\n",
              "    <div id=\"df-e28d9be5-3c09-49a1-85d6-91c6668f38a4\">\n",
              "      <button class=\"colab-df-quickchart\" onclick=\"quickchart('df-e28d9be5-3c09-49a1-85d6-91c6668f38a4')\"\n",
              "                title=\"Suggest charts\"\n",
              "                style=\"display:none;\">\n",
              "\n",
              "<svg xmlns=\"http://www.w3.org/2000/svg\" height=\"24px\"viewBox=\"0 0 24 24\"\n",
              "     width=\"24px\">\n",
              "    <g>\n",
              "        <path d=\"M19 3H5c-1.1 0-2 .9-2 2v14c0 1.1.9 2 2 2h14c1.1 0 2-.9 2-2V5c0-1.1-.9-2-2-2zM9 17H7v-7h2v7zm4 0h-2V7h2v10zm4 0h-2v-4h2v4z\"/>\n",
              "    </g>\n",
              "</svg>\n",
              "      </button>\n",
              "\n",
              "<style>\n",
              "  .colab-df-quickchart {\n",
              "      --bg-color: #E8F0FE;\n",
              "      --fill-color: #1967D2;\n",
              "      --hover-bg-color: #E2EBFA;\n",
              "      --hover-fill-color: #174EA6;\n",
              "      --disabled-fill-color: #AAA;\n",
              "      --disabled-bg-color: #DDD;\n",
              "  }\n",
              "\n",
              "  [theme=dark] .colab-df-quickchart {\n",
              "      --bg-color: #3B4455;\n",
              "      --fill-color: #D2E3FC;\n",
              "      --hover-bg-color: #434B5C;\n",
              "      --hover-fill-color: #FFFFFF;\n",
              "      --disabled-bg-color: #3B4455;\n",
              "      --disabled-fill-color: #666;\n",
              "  }\n",
              "\n",
              "  .colab-df-quickchart {\n",
              "    background-color: var(--bg-color);\n",
              "    border: none;\n",
              "    border-radius: 50%;\n",
              "    cursor: pointer;\n",
              "    display: none;\n",
              "    fill: var(--fill-color);\n",
              "    height: 32px;\n",
              "    padding: 0;\n",
              "    width: 32px;\n",
              "  }\n",
              "\n",
              "  .colab-df-quickchart:hover {\n",
              "    background-color: var(--hover-bg-color);\n",
              "    box-shadow: 0 1px 2px rgba(60, 64, 67, 0.3), 0 1px 3px 1px rgba(60, 64, 67, 0.15);\n",
              "    fill: var(--button-hover-fill-color);\n",
              "  }\n",
              "\n",
              "  .colab-df-quickchart-complete:disabled,\n",
              "  .colab-df-quickchart-complete:disabled:hover {\n",
              "    background-color: var(--disabled-bg-color);\n",
              "    fill: var(--disabled-fill-color);\n",
              "    box-shadow: none;\n",
              "  }\n",
              "\n",
              "  .colab-df-spinner {\n",
              "    border: 2px solid var(--fill-color);\n",
              "    border-color: transparent;\n",
              "    border-bottom-color: var(--fill-color);\n",
              "    animation:\n",
              "      spin 1s steps(1) infinite;\n",
              "  }\n",
              "\n",
              "  @keyframes spin {\n",
              "    0% {\n",
              "      border-color: transparent;\n",
              "      border-bottom-color: var(--fill-color);\n",
              "      border-left-color: var(--fill-color);\n",
              "    }\n",
              "    20% {\n",
              "      border-color: transparent;\n",
              "      border-left-color: var(--fill-color);\n",
              "      border-top-color: var(--fill-color);\n",
              "    }\n",
              "    30% {\n",
              "      border-color: transparent;\n",
              "      border-left-color: var(--fill-color);\n",
              "      border-top-color: var(--fill-color);\n",
              "      border-right-color: var(--fill-color);\n",
              "    }\n",
              "    40% {\n",
              "      border-color: transparent;\n",
              "      border-right-color: var(--fill-color);\n",
              "      border-top-color: var(--fill-color);\n",
              "    }\n",
              "    60% {\n",
              "      border-color: transparent;\n",
              "      border-right-color: var(--fill-color);\n",
              "    }\n",
              "    80% {\n",
              "      border-color: transparent;\n",
              "      border-right-color: var(--fill-color);\n",
              "      border-bottom-color: var(--fill-color);\n",
              "    }\n",
              "    90% {\n",
              "      border-color: transparent;\n",
              "      border-bottom-color: var(--fill-color);\n",
              "    }\n",
              "  }\n",
              "</style>\n",
              "\n",
              "      <script>\n",
              "        async function quickchart(key) {\n",
              "          const quickchartButtonEl =\n",
              "            document.querySelector('#' + key + ' button');\n",
              "          quickchartButtonEl.disabled = true;  // To prevent multiple clicks.\n",
              "          quickchartButtonEl.classList.add('colab-df-spinner');\n",
              "          try {\n",
              "            const charts = await google.colab.kernel.invokeFunction(\n",
              "                'suggestCharts', [key], {});\n",
              "          } catch (error) {\n",
              "            console.error('Error during call to suggestCharts:', error);\n",
              "          }\n",
              "          quickchartButtonEl.classList.remove('colab-df-spinner');\n",
              "          quickchartButtonEl.classList.add('colab-df-quickchart-complete');\n",
              "        }\n",
              "        (() => {\n",
              "          let quickchartButtonEl =\n",
              "            document.querySelector('#df-e28d9be5-3c09-49a1-85d6-91c6668f38a4 button');\n",
              "          quickchartButtonEl.style.display =\n",
              "            google.colab.kernel.accessAllowed ? 'block' : 'none';\n",
              "        })();\n",
              "      </script>\n",
              "    </div>\n",
              "\n",
              "  <div id=\"id_b9035fbf-8644-4be5-8d09-934763cd5787\">\n",
              "    <style>\n",
              "      .colab-df-generate {\n",
              "        background-color: #E8F0FE;\n",
              "        border: none;\n",
              "        border-radius: 50%;\n",
              "        cursor: pointer;\n",
              "        display: none;\n",
              "        fill: #1967D2;\n",
              "        height: 32px;\n",
              "        padding: 0 0 0 0;\n",
              "        width: 32px;\n",
              "      }\n",
              "\n",
              "      .colab-df-generate:hover {\n",
              "        background-color: #E2EBFA;\n",
              "        box-shadow: 0px 1px 2px rgba(60, 64, 67, 0.3), 0px 1px 3px 1px rgba(60, 64, 67, 0.15);\n",
              "        fill: #174EA6;\n",
              "      }\n",
              "\n",
              "      [theme=dark] .colab-df-generate {\n",
              "        background-color: #3B4455;\n",
              "        fill: #D2E3FC;\n",
              "      }\n",
              "\n",
              "      [theme=dark] .colab-df-generate:hover {\n",
              "        background-color: #434B5C;\n",
              "        box-shadow: 0px 1px 3px 1px rgba(0, 0, 0, 0.15);\n",
              "        filter: drop-shadow(0px 1px 2px rgba(0, 0, 0, 0.3));\n",
              "        fill: #FFFFFF;\n",
              "      }\n",
              "    </style>\n",
              "    <button class=\"colab-df-generate\" onclick=\"generateWithVariable('df')\"\n",
              "            title=\"Generate code using this dataframe.\"\n",
              "            style=\"display:none;\">\n",
              "\n",
              "  <svg xmlns=\"http://www.w3.org/2000/svg\" height=\"24px\"viewBox=\"0 0 24 24\"\n",
              "       width=\"24px\">\n",
              "    <path d=\"M7,19H8.4L18.45,9,17,7.55,7,17.6ZM5,21V16.75L18.45,3.32a2,2,0,0,1,2.83,0l1.4,1.43a1.91,1.91,0,0,1,.58,1.4,1.91,1.91,0,0,1-.58,1.4L9.25,21ZM18.45,9,17,7.55Zm-12,3A5.31,5.31,0,0,0,4.9,8.1,5.31,5.31,0,0,0,1,6.5,5.31,5.31,0,0,0,4.9,4.9,5.31,5.31,0,0,0,6.5,1,5.31,5.31,0,0,0,8.1,4.9,5.31,5.31,0,0,0,12,6.5,5.46,5.46,0,0,0,6.5,12Z\"/>\n",
              "  </svg>\n",
              "    </button>\n",
              "    <script>\n",
              "      (() => {\n",
              "      const buttonEl =\n",
              "        document.querySelector('#id_b9035fbf-8644-4be5-8d09-934763cd5787 button.colab-df-generate');\n",
              "      buttonEl.style.display =\n",
              "        google.colab.kernel.accessAllowed ? 'block' : 'none';\n",
              "\n",
              "      buttonEl.onclick = () => {\n",
              "        google.colab.notebook.generateWithVariable('df');\n",
              "      }\n",
              "      })();\n",
              "    </script>\n",
              "  </div>\n",
              "\n",
              "    </div>\n",
              "  </div>\n"
            ],
            "application/vnd.google.colaboratory.intrinsic+json": {
              "type": "dataframe",
              "variable_name": "df",
              "summary": "{\n  \"name\": \"df\",\n  \"rows\": 43104,\n  \"fields\": [\n    {\n      \"column\": \"valid_time\",\n      \"properties\": {\n        \"dtype\": \"object\",\n        \"num_unique_values\": 14368,\n        \"samples\": [\n          \"2024-02-09 00:00:00\",\n          \"2023-01-27 06:00:00\",\n          \"2023-04-20 18:00:00\"\n        ],\n        \"semantic_type\": \"\",\n        \"description\": \"\"\n      }\n    },\n    {\n      \"column\": \"pm1\",\n      \"properties\": {\n        \"dtype\": \"number\",\n        \"std\": 9.997143027818162e-08,\n        \"min\": 0.0,\n        \"max\": 6.7088905e-07,\n        \"num_unique_values\": 42867,\n        \"samples\": [\n          5.782624e-09,\n          4.9904493e-08,\n          2.8543246e-07\n        ],\n        \"semantic_type\": \"\",\n        \"description\": \"\"\n      }\n    },\n    {\n      \"column\": \"pm10\",\n      \"properties\": {\n        \"dtype\": \"number\",\n        \"std\": 1.658022508169302e-07,\n        \"min\": 0.0,\n        \"max\": 1.1038046e-06,\n        \"num_unique_values\": 42862,\n        \"samples\": [\n          6.868453e-08,\n          2.5276432e-08,\n          5.7619474e-09\n        ],\n        \"semantic_type\": \"\",\n        \"description\": \"\"\n      }\n    },\n    {\n      \"column\": \"pm2p5\",\n      \"properties\": {\n        \"dtype\": \"number\",\n        \"std\": 1.1754290929239573e-07,\n        \"min\": 0.0,\n        \"max\": 7.7953115e-07,\n        \"num_unique_values\": 42855,\n        \"samples\": [\n          7.532884e-08,\n          8.502358e-09,\n          3.7079797e-09\n        ],\n        \"semantic_type\": \"\",\n        \"description\": \"\"\n      }\n    },\n    {\n      \"column\": \"bcaod550\",\n      \"properties\": {\n        \"dtype\": \"number\",\n        \"std\": 0.010661836407038813,\n        \"min\": 1.767758e-05,\n        \"max\": 0.11065966,\n        \"num_unique_values\": 43018,\n        \"samples\": [\n          0.024231222,\n          0.026652094,\n          0.017839823\n        ],\n        \"semantic_type\": \"\",\n        \"description\": \"\"\n      }\n    },\n    {\n      \"column\": \"aod550\",\n      \"properties\": {\n        \"dtype\": \"number\",\n        \"std\": 0.37518988328726277,\n        \"min\": 0.00033319718,\n        \"max\": 3.3707914,\n        \"num_unique_values\": 43065,\n        \"samples\": [\n          0.15733117,\n          0.42660576,\n          0.07201052\n        ],\n        \"semantic_type\": \"\",\n        \"description\": \"\"\n      }\n    },\n    {\n      \"column\": \"omaod550\",\n      \"properties\": {\n        \"dtype\": \"number\",\n        \"std\": 0.19165795417465256,\n        \"min\": 6.882388e-05,\n        \"max\": 2.0814714,\n        \"num_unique_values\": 43036,\n        \"samples\": [\n          0.31496525,\n          0.35768455,\n          0.8716192\n        ],\n        \"semantic_type\": \"\",\n        \"description\": \"\"\n      }\n    },\n    {\n      \"column\": \"tcno2\",\n      \"properties\": {\n        \"dtype\": \"number\",\n        \"std\": 2.6867561154523825e-06,\n        \"min\": 7.8981515e-07,\n        \"max\": 3.110284e-05,\n        \"num_unique_values\": 43031,\n        \"samples\": [\n          9.367358e-06,\n          4.6375308e-06,\n          6.5178874e-06\n        ],\n        \"semantic_type\": \"\",\n        \"description\": \"\"\n      }\n    },\n    {\n      \"column\": \"tcso2\",\n      \"properties\": {\n        \"dtype\": \"number\",\n        \"std\": 5.467017069578587e-06,\n        \"min\": 3.7665597e-08,\n        \"max\": 3.5010074e-05,\n        \"num_unique_values\": 43046,\n        \"samples\": [\n          2.722718e-06,\n          9.786252e-06,\n          9.0819634e-07\n        ],\n        \"semantic_type\": \"\",\n        \"description\": \"\"\n      }\n    },\n    {\n      \"column\": \"gtco3\",\n      \"properties\": {\n        \"dtype\": \"number\",\n        \"std\": 0.0009446851627030691,\n        \"min\": 0.004776206,\n        \"max\": 0.010966931,\n        \"num_unique_values\": 41434,\n        \"samples\": [\n          0.006710522,\n          0.00538861,\n          0.0057637542\n        ],\n        \"semantic_type\": \"\",\n        \"description\": \"\"\n      }\n    },\n    {\n      \"column\": \"tcco\",\n      \"properties\": {\n        \"dtype\": \"number\",\n        \"std\": 0.00027088011926346893,\n        \"min\": 0.00051340763,\n        \"max\": 0.0034214961,\n        \"num_unique_values\": 42784,\n        \"samples\": [\n          0.0009595875,\n          0.0015054124,\n          0.0010122792\n        ],\n        \"semantic_type\": \"\",\n        \"description\": \"\"\n      }\n    },\n    {\n      \"column\": \"u10\",\n      \"properties\": {\n        \"dtype\": \"number\",\n        \"std\": 2.9339312331679857,\n        \"min\": -13.597217,\n        \"max\": 14.726424,\n        \"num_unique_values\": 43057,\n        \"samples\": [\n          1.7330818,\n          1.8697071,\n          -0.6609421\n        ],\n        \"semantic_type\": \"\",\n        \"description\": \"\"\n      }\n    },\n    {\n      \"column\": \"v10\",\n      \"properties\": {\n        \"dtype\": \"number\",\n        \"std\": 2.645935312761876,\n        \"min\": -13.87509,\n        \"max\": 14.729734,\n        \"num_unique_values\": 43052,\n        \"samples\": [\n          1.065593,\n          0.12762988,\n          1.81077\n        ],\n        \"semantic_type\": \"\",\n        \"description\": \"\"\n      }\n    },\n    {\n      \"column\": \"d2m\",\n      \"properties\": {\n        \"dtype\": \"number\",\n        \"std\": 9.871699629786304,\n        \"min\": 253.32346,\n        \"max\": 302.277,\n        \"num_unique_values\": 41516,\n        \"samples\": [\n          285.05594,\n          295.43954,\n          273.07367\n        ],\n        \"semantic_type\": \"\",\n        \"description\": \"\"\n      }\n    },\n    {\n      \"column\": \"t2m\",\n      \"properties\": {\n        \"dtype\": \"number\",\n        \"std\": 11.248505528480067,\n        \"min\": 254.9468,\n        \"max\": 320.22144,\n        \"num_unique_values\": 42118,\n        \"samples\": [\n          287.96365,\n          283.29715,\n          298.6121\n        ],\n        \"semantic_type\": \"\",\n        \"description\": \"\"\n      }\n    },\n    {\n      \"column\": \"sp\",\n      \"properties\": {\n        \"dtype\": \"number\",\n        \"std\": 1425.3092229807182,\n        \"min\": 95923.414,\n        \"max\": 104519.36,\n        \"num_unique_values\": 35376,\n        \"samples\": [\n          98749.36,\n          101406.164,\n          102588.26\n        ],\n        \"semantic_type\": \"\",\n        \"description\": \"\"\n      }\n    },\n    {\n      \"column\": \"blh\",\n      \"properties\": {\n        \"dtype\": \"number\",\n        \"std\": 539.8423416635034,\n        \"min\": 10.949107,\n        \"max\": 5068.6973,\n        \"num_unique_values\": 43043,\n        \"samples\": [\n          1383.1199,\n          40.260498,\n          589.41895\n        ],\n        \"semantic_type\": \"\",\n        \"description\": \"\"\n      }\n    },\n    {\n      \"column\": \"tp\",\n      \"properties\": {\n        \"dtype\": \"number\",\n        \"std\": 0.0005293564527877989,\n        \"min\": 0.0,\n        \"max\": 0.018712368,\n        \"num_unique_values\": 21747,\n        \"samples\": [\n          0.00015946313,\n          5.6465942e-05,\n          9.539663e-07\n        ],\n        \"semantic_type\": \"\",\n        \"description\": \"\"\n      }\n    },\n    {\n      \"column\": \"ssrd\",\n      \"properties\": {\n        \"dtype\": \"number\",\n        \"std\": 939834.0506895885,\n        \"min\": 0.0,\n        \"max\": 3663254.0,\n        \"num_unique_values\": 22508,\n        \"samples\": [\n          18983.012,\n          12315.16,\n          799543.4\n        ],\n        \"semantic_type\": \"\",\n        \"description\": \"\"\n      }\n    },\n    {\n      \"column\": \"city\",\n      \"properties\": {\n        \"dtype\": \"category\",\n        \"num_unique_values\": 3,\n        \"samples\": [\n          \"Jakarta\",\n          \"Helsinki\",\n          \"Delhi\"\n        ],\n        \"semantic_type\": \"\",\n        \"description\": \"\"\n      }\n    }\n  ]\n}"
            }
          },
          "metadata": {},
          "execution_count": 3
        }
      ]
    },
    {
      "cell_type": "code",
      "source": [
        "df['valid_time'] = pd.to_datetime(df['valid_time'])\n",
        "df = df.sort_values(by=['valid_time', 'city'])"
      ],
      "metadata": {
        "id": "o2WkDxVfuKvc"
      },
      "execution_count": 4,
      "outputs": []
    },
    {
      "cell_type": "code",
      "source": [
        "missing_value = 100 * (df.isna().sum() / len(df))\n",
        "print(missing_value)"
      ],
      "metadata": {
        "colab": {
          "base_uri": "https://localhost:8080/"
        },
        "id": "LsfvGSa-uR5F",
        "outputId": "d061ab1e-6a4a-4eb9-fb74-ed9b1d2b5bea"
      },
      "execution_count": 5,
      "outputs": [
        {
          "output_type": "stream",
          "name": "stdout",
          "text": [
            "valid_time    0.0\n",
            "pm1           0.0\n",
            "pm10          0.0\n",
            "pm2p5         0.0\n",
            "bcaod550      0.0\n",
            "aod550        0.0\n",
            "omaod550      0.0\n",
            "tcno2         0.0\n",
            "tcso2         0.0\n",
            "gtco3         0.0\n",
            "tcco          0.0\n",
            "u10           0.0\n",
            "v10           0.0\n",
            "d2m           0.0\n",
            "t2m           0.0\n",
            "sp            0.0\n",
            "blh           0.0\n",
            "tp            0.0\n",
            "ssrd          0.0\n",
            "city          0.0\n",
            "dtype: float64\n"
          ]
        }
      ]
    },
    {
      "cell_type": "code",
      "source": [
        "df['hour'] = df['valid_time'].dt.hour\n",
        "df['days'] = df['valid_time'].dt.dayofweek\n",
        "df['month'] = df['valid_time'].dt.month"
      ],
      "metadata": {
        "id": "UfnjJXOTubQW"
      },
      "execution_count": 6,
      "outputs": []
    },
    {
      "cell_type": "code",
      "source": [
        "df = pd.get_dummies(df, columns=['city'])"
      ],
      "metadata": {
        "id": "Upp0NMYvucjt"
      },
      "execution_count": 7,
      "outputs": []
    },
    {
      "cell_type": "code",
      "source": [
        "df['pm2p5'] *= 1e07\n",
        "df = df.drop(columns=['pm1', 'pm10'], axis=1)"
      ],
      "metadata": {
        "id": "jUTEAdKDudy2"
      },
      "execution_count": 8,
      "outputs": []
    },
    {
      "cell_type": "code",
      "source": [
        "df.info()"
      ],
      "metadata": {
        "colab": {
          "base_uri": "https://localhost:8080/"
        },
        "id": "IEPB4Q90-oJT",
        "outputId": "b8294fac-95ed-4327-9cc2-0587ac838400"
      },
      "execution_count": 9,
      "outputs": [
        {
          "output_type": "stream",
          "name": "stdout",
          "text": [
            "<class 'pandas.core.frame.DataFrame'>\n",
            "Index: 43104 entries, 28736 to 14367\n",
            "Data columns (total 23 columns):\n",
            " #   Column         Non-Null Count  Dtype         \n",
            "---  ------         --------------  -----         \n",
            " 0   valid_time     43104 non-null  datetime64[ns]\n",
            " 1   pm2p5          43104 non-null  float64       \n",
            " 2   bcaod550       43104 non-null  float64       \n",
            " 3   aod550         43104 non-null  float64       \n",
            " 4   omaod550       43104 non-null  float64       \n",
            " 5   tcno2          43104 non-null  float64       \n",
            " 6   tcso2          43104 non-null  float64       \n",
            " 7   gtco3          43104 non-null  float64       \n",
            " 8   tcco           43104 non-null  float64       \n",
            " 9   u10            43104 non-null  float64       \n",
            " 10  v10            43104 non-null  float64       \n",
            " 11  d2m            43104 non-null  float64       \n",
            " 12  t2m            43104 non-null  float64       \n",
            " 13  sp             43104 non-null  float64       \n",
            " 14  blh            43104 non-null  float64       \n",
            " 15  tp             43104 non-null  float64       \n",
            " 16  ssrd           43104 non-null  float64       \n",
            " 17  hour           43104 non-null  int32         \n",
            " 18  days           43104 non-null  int32         \n",
            " 19  month          43104 non-null  int32         \n",
            " 20  city_Delhi     43104 non-null  bool          \n",
            " 21  city_Helsinki  43104 non-null  bool          \n",
            " 22  city_Jakarta   43104 non-null  bool          \n",
            "dtypes: bool(3), datetime64[ns](1), float64(16), int32(3)\n",
            "memory usage: 6.5 MB\n"
          ]
        }
      ]
    },
    {
      "cell_type": "code",
      "source": [
        "df = df.drop(columns=['valid_time'])"
      ],
      "metadata": {
        "id": "Zmrxkz7fufUQ"
      },
      "execution_count": 10,
      "outputs": []
    },
    {
      "cell_type": "code",
      "source": [
        "target_col = 'pm2p5'\n",
        "features_col = [col for col in df.columns if col not in [target_col, 'city', 'city_name', 'datetime']]"
      ],
      "metadata": {
        "id": "9pAJMTgIugUp"
      },
      "execution_count": 11,
      "outputs": []
    },
    {
      "cell_type": "code",
      "source": [
        "data_split = int(len(df) * 0.8)\n",
        "df_train = df.iloc[:data_split]\n",
        "df_test = df.iloc[data_split:]"
      ],
      "metadata": {
        "id": "AkUyNIzKuhZV"
      },
      "execution_count": 12,
      "outputs": []
    },
    {
      "cell_type": "code",
      "source": [
        "minmax_X = MinMaxScaler()\n",
        "minmax_y = MinMaxScaler()\n",
        "\n",
        "X_train = minmax_X.fit_transform(df_train[features_col])\n",
        "X_test = minmax_X.transform(df_test[features_col])\n",
        "y_train = minmax_y.fit_transform(df_train[[target_col]])\n",
        "y_test = minmax_y.transform(df_test[[target_col]])"
      ],
      "metadata": {
        "id": "9-iZSBMPujL7"
      },
      "execution_count": 13,
      "outputs": []
    },
    {
      "cell_type": "code",
      "source": [
        "joblib.dump(minmax_X, 'LSTM_minmax_x.pkl')\n",
        "joblib.dump(minmax_y, 'LSTM_minmax_y.pkl')"
      ],
      "metadata": {
        "colab": {
          "base_uri": "https://localhost:8080/"
        },
        "id": "im12OYjIN64t",
        "outputId": "438054bc-b323-4cb9-bdbc-d8e3713a39a6"
      },
      "execution_count": 14,
      "outputs": [
        {
          "output_type": "execute_result",
          "data": {
            "text/plain": [
              "['LSTM_minmax_y.pkl']"
            ]
          },
          "metadata": {},
          "execution_count": 14
        }
      ]
    },
    {
      "cell_type": "code",
      "source": [
        "def sequence(feature, target, window_size=12):\n",
        "  X, y = [], []\n",
        "  for i in range(len(feature) - window_size):\n",
        "    X.append(feature[i:i+window_size])\n",
        "    y.append(target[i+window_size])\n",
        "  return np.array(X), np.array(y)\n",
        "\n",
        "window = 12\n",
        "X_train_sq, y_train_sq = sequence(X_train, y_train, window)\n",
        "X_test_sq, y_test_sq = sequence(X_test, y_test, window)"
      ],
      "metadata": {
        "id": "tAfUCL6_ujgV"
      },
      "execution_count": 15,
      "outputs": []
    },
    {
      "cell_type": "code",
      "source": [
        "print(X_train_sq.shape)\n",
        "print(y_train_sq.shape)\n",
        "print(X_test_sq.shape)\n",
        "print(y_test_sq.shape)"
      ],
      "metadata": {
        "colab": {
          "base_uri": "https://localhost:8080/"
        },
        "id": "tfhdaXkqungs",
        "outputId": "07576767-d5dc-491a-eeb1-6f92d1f3c89a"
      },
      "execution_count": 16,
      "outputs": [
        {
          "output_type": "stream",
          "name": "stdout",
          "text": [
            "(34471, 12, 21)\n",
            "(34471, 1)\n",
            "(8609, 12, 21)\n",
            "(8609, 1)\n"
          ]
        }
      ]
    },
    {
      "cell_type": "code",
      "source": [
        "model = keras.models.Sequential()"
      ],
      "metadata": {
        "id": "yp8fzIavuoAw"
      },
      "execution_count": null,
      "outputs": []
    },
    {
      "cell_type": "code",
      "source": [
        "# First Layer\n",
        "# 64 = number of memory cells\n",
        "# return_sequence = giving the\n",
        "# input_shape = to give the models the expected input data\n",
        "model.add(layers.LSTM(64, return_sequences=True, input_shape=(X_train_sq.shape[1], X_train_sq.shape[2])))"
      ],
      "metadata": {
        "colab": {
          "base_uri": "https://localhost:8080/"
        },
        "id": "CUJKWOS7upkr",
        "outputId": "b2c0eb74-1d13-4f64-f8aa-12a4506ae28a"
      },
      "execution_count": null,
      "outputs": [
        {
          "output_type": "stream",
          "name": "stderr",
          "text": [
            "/usr/local/lib/python3.11/dist-packages/keras/src/layers/rnn/rnn.py:200: UserWarning: Do not pass an `input_shape`/`input_dim` argument to a layer. When using Sequential models, prefer using an `Input(shape)` object as the first layer in the model instead.\n",
            "  super().__init__(**kwargs)\n"
          ]
        }
      ]
    },
    {
      "cell_type": "code",
      "source": [
        "model.add(layers.LSTM(64, return_sequences=False))"
      ],
      "metadata": {
        "id": "d542FpXwuqta"
      },
      "execution_count": null,
      "outputs": []
    },
    {
      "cell_type": "code",
      "source": [
        "# 128 = neural network layer with 128 neuron\n",
        "model.add(layers.Dense(128, activation='relu'))"
      ],
      "metadata": {
        "id": "qzpLw-69usQ5"
      },
      "execution_count": null,
      "outputs": []
    },
    {
      "cell_type": "code",
      "source": [
        "# this layer randomly drops 50% of the neuron to prevent overfitting\n",
        "model.add(layers.Dropout(0.5))"
      ],
      "metadata": {
        "id": "N6C3M1mDutLA"
      },
      "execution_count": null,
      "outputs": []
    },
    {
      "cell_type": "code",
      "source": [
        "model.add(layers.Dense(1))"
      ],
      "metadata": {
        "id": "F920YiwJuvlm"
      },
      "execution_count": null,
      "outputs": []
    },
    {
      "cell_type": "code",
      "source": [
        "model.compile(optimizer='adam', loss='mae', metrics=[RootMeanSquaredError(), MeanAbsoluteError()])"
      ],
      "metadata": {
        "id": "5Nr6tiIyuuth"
      },
      "execution_count": null,
      "outputs": []
    },
    {
      "cell_type": "code",
      "source": [
        "model.fit(X_train_sq, y_train_sq, epochs=20, batch_size=32)"
      ],
      "metadata": {
        "colab": {
          "base_uri": "https://localhost:8080/"
        },
        "id": "iHl3pEzpuxwF",
        "outputId": "4e86299e-62c5-4bab-a84b-7c9f8c461a92"
      },
      "execution_count": null,
      "outputs": [
        {
          "output_type": "stream",
          "name": "stdout",
          "text": [
            "Epoch 1/20\n",
            "\u001b[1m1078/1078\u001b[0m \u001b[32m━━━━━━━━━━━━━━━━━━━━\u001b[0m\u001b[37m\u001b[0m \u001b[1m13s\u001b[0m 7ms/step - loss: 0.0694 - mean_absolute_error: 0.0694 - root_mean_squared_error: 0.1243\n",
            "Epoch 2/20\n",
            "\u001b[1m1078/1078\u001b[0m \u001b[32m━━━━━━━━━━━━━━━━━━━━\u001b[0m\u001b[37m\u001b[0m \u001b[1m9s\u001b[0m 8ms/step - loss: 0.0419 - mean_absolute_error: 0.0419 - root_mean_squared_error: 0.0814\n",
            "Epoch 3/20\n",
            "\u001b[1m1078/1078\u001b[0m \u001b[32m━━━━━━━━━━━━━━━━━━━━\u001b[0m\u001b[37m\u001b[0m \u001b[1m8s\u001b[0m 8ms/step - loss: 0.0386 - mean_absolute_error: 0.0386 - root_mean_squared_error: 0.0754\n",
            "Epoch 4/20\n",
            "\u001b[1m1078/1078\u001b[0m \u001b[32m━━━━━━━━━━━━━━━━━━━━\u001b[0m\u001b[37m\u001b[0m \u001b[1m7s\u001b[0m 7ms/step - loss: 0.0369 - mean_absolute_error: 0.0369 - root_mean_squared_error: 0.0724\n",
            "Epoch 5/20\n",
            "\u001b[1m1078/1078\u001b[0m \u001b[32m━━━━━━━━━━━━━━━━━━━━\u001b[0m\u001b[37m\u001b[0m \u001b[1m8s\u001b[0m 7ms/step - loss: 0.0352 - mean_absolute_error: 0.0352 - root_mean_squared_error: 0.0691\n",
            "Epoch 6/20\n",
            "\u001b[1m1078/1078\u001b[0m \u001b[32m━━━━━━━━━━━━━━━━━━━━\u001b[0m\u001b[37m\u001b[0m \u001b[1m10s\u001b[0m 7ms/step - loss: 0.0342 - mean_absolute_error: 0.0342 - root_mean_squared_error: 0.0669\n",
            "Epoch 7/20\n",
            "\u001b[1m1078/1078\u001b[0m \u001b[32m━━━━━━━━━━━━━━━━━━━━\u001b[0m\u001b[37m\u001b[0m \u001b[1m10s\u001b[0m 7ms/step - loss: 0.0324 - mean_absolute_error: 0.0324 - root_mean_squared_error: 0.0629\n",
            "Epoch 8/20\n",
            "\u001b[1m1078/1078\u001b[0m \u001b[32m━━━━━━━━━━━━━━━━━━━━\u001b[0m\u001b[37m\u001b[0m \u001b[1m10s\u001b[0m 7ms/step - loss: 0.0313 - mean_absolute_error: 0.0313 - root_mean_squared_error: 0.0602\n",
            "Epoch 9/20\n",
            "\u001b[1m1078/1078\u001b[0m \u001b[32m━━━━━━━━━━━━━━━━━━━━\u001b[0m\u001b[37m\u001b[0m \u001b[1m8s\u001b[0m 8ms/step - loss: 0.0309 - mean_absolute_error: 0.0309 - root_mean_squared_error: 0.0604\n",
            "Epoch 10/20\n",
            "\u001b[1m1078/1078\u001b[0m \u001b[32m━━━━━━━━━━━━━━━━━━━━\u001b[0m\u001b[37m\u001b[0m \u001b[1m9s\u001b[0m 8ms/step - loss: 0.0305 - mean_absolute_error: 0.0305 - root_mean_squared_error: 0.0587\n",
            "Epoch 11/20\n",
            "\u001b[1m1078/1078\u001b[0m \u001b[32m━━━━━━━━━━━━━━━━━━━━\u001b[0m\u001b[37m\u001b[0m \u001b[1m11s\u001b[0m 9ms/step - loss: 0.0294 - mean_absolute_error: 0.0294 - root_mean_squared_error: 0.0569\n",
            "Epoch 12/20\n",
            "\u001b[1m1078/1078\u001b[0m \u001b[32m━━━━━━━━━━━━━━━━━━━━\u001b[0m\u001b[37m\u001b[0m \u001b[1m8s\u001b[0m 7ms/step - loss: 0.0293 - mean_absolute_error: 0.0293 - root_mean_squared_error: 0.0566\n",
            "Epoch 13/20\n",
            "\u001b[1m1078/1078\u001b[0m \u001b[32m━━━━━━━━━━━━━━━━━━━━\u001b[0m\u001b[37m\u001b[0m \u001b[1m10s\u001b[0m 7ms/step - loss: 0.0279 - mean_absolute_error: 0.0279 - root_mean_squared_error: 0.0537\n",
            "Epoch 14/20\n",
            "\u001b[1m1078/1078\u001b[0m \u001b[32m━━━━━━━━━━━━━━━━━━━━\u001b[0m\u001b[37m\u001b[0m \u001b[1m8s\u001b[0m 8ms/step - loss: 0.0279 - mean_absolute_error: 0.0279 - root_mean_squared_error: 0.0541\n",
            "Epoch 15/20\n",
            "\u001b[1m1078/1078\u001b[0m \u001b[32m━━━━━━━━━━━━━━━━━━━━\u001b[0m\u001b[37m\u001b[0m \u001b[1m8s\u001b[0m 7ms/step - loss: 0.0270 - mean_absolute_error: 0.0270 - root_mean_squared_error: 0.0518\n",
            "Epoch 16/20\n",
            "\u001b[1m1078/1078\u001b[0m \u001b[32m━━━━━━━━━━━━━━━━━━━━\u001b[0m\u001b[37m\u001b[0m \u001b[1m12s\u001b[0m 8ms/step - loss: 0.0271 - mean_absolute_error: 0.0271 - root_mean_squared_error: 0.0525\n",
            "Epoch 17/20\n",
            "\u001b[1m1078/1078\u001b[0m \u001b[32m━━━━━━━━━━━━━━━━━━━━\u001b[0m\u001b[37m\u001b[0m \u001b[1m8s\u001b[0m 8ms/step - loss: 0.0274 - mean_absolute_error: 0.0274 - root_mean_squared_error: 0.0531\n",
            "Epoch 18/20\n",
            "\u001b[1m1078/1078\u001b[0m \u001b[32m━━━━━━━━━━━━━━━━━━━━\u001b[0m\u001b[37m\u001b[0m \u001b[1m8s\u001b[0m 8ms/step - loss: 0.0268 - mean_absolute_error: 0.0268 - root_mean_squared_error: 0.0513\n",
            "Epoch 19/20\n",
            "\u001b[1m1078/1078\u001b[0m \u001b[32m━━━━━━━━━━━━━━━━━━━━\u001b[0m\u001b[37m\u001b[0m \u001b[1m10s\u001b[0m 8ms/step - loss: 0.0263 - mean_absolute_error: 0.0263 - root_mean_squared_error: 0.0505\n",
            "Epoch 20/20\n",
            "\u001b[1m1078/1078\u001b[0m \u001b[32m━━━━━━━━━━━━━━━━━━━━\u001b[0m\u001b[37m\u001b[0m \u001b[1m7s\u001b[0m 7ms/step - loss: 0.0261 - mean_absolute_error: 0.0261 - root_mean_squared_error: 0.0510\n"
          ]
        },
        {
          "output_type": "execute_result",
          "data": {
            "text/plain": [
              "<keras.src.callbacks.history.History at 0x78b7c2620790>"
            ]
          },
          "metadata": {},
          "execution_count": 29
        }
      ]
    },
    {
      "cell_type": "code",
      "source": [
        "y_pred_sq = model.predict(X_test_sq)"
      ],
      "metadata": {
        "colab": {
          "base_uri": "https://localhost:8080/"
        },
        "id": "KcCrWEWMuyqb",
        "outputId": "52f74e7b-6b5c-4b46-80bc-db65731c7de7"
      },
      "execution_count": null,
      "outputs": [
        {
          "output_type": "stream",
          "name": "stdout",
          "text": [
            "\u001b[1m270/270\u001b[0m \u001b[32m━━━━━━━━━━━━━━━━━━━━\u001b[0m\u001b[37m\u001b[0m \u001b[1m1s\u001b[0m 3ms/step\n"
          ]
        }
      ]
    },
    {
      "cell_type": "code",
      "source": [
        "y_pred_inversed = minmax_y.inverse_transform(y_pred_sq)\n",
        "y_pred_real = minmax_y.inverse_transform(y_test_sq)"
      ],
      "metadata": {
        "id": "s7odMA-tu1e3"
      },
      "execution_count": null,
      "outputs": []
    },
    {
      "cell_type": "code",
      "source": [
        "print(f\"RMSE Score: {root_mean_squared_error(y_pred_real, y_pred_inversed)}\")\n",
        "print(f\"MAE Score: {mean_absolute_error(y_pred_real, y_pred_inversed)}\")\n",
        "print(f\"R2 Score: {r2_score(y_pred_real, y_pred_inversed)}\")"
      ],
      "metadata": {
        "colab": {
          "base_uri": "https://localhost:8080/"
        },
        "id": "z4a2yrH1u3HK",
        "outputId": "40f6d7fc-7185-4747-9332-76d0f99a8e4a"
      },
      "execution_count": null,
      "outputs": [
        {
          "output_type": "stream",
          "name": "stdout",
          "text": [
            "RMSE Score: 0.3509037406641477\n",
            "MAE Score: 0.17875947954541258\n",
            "R2 Score: 0.9099347798961253\n"
          ]
        }
      ]
    },
    {
      "cell_type": "code",
      "source": [
        "model.save(\"LSTM_base_model.keras\")"
      ],
      "metadata": {
        "id": "0GCd3Lncu5XQ"
      },
      "execution_count": null,
      "outputs": []
    },
    {
      "cell_type": "code",
      "source": [
        "def LSTM_model_builder(hp):\n",
        "  model = keras.Sequential()\n",
        "  model.add(\n",
        "      layers.LSTM(\n",
        "          units=hp.Int('unit_1', min_value=32, max_value=256, step=32),\n",
        "          return_sequences=True,\n",
        "          input_shape=(X_train_sq.shape[1], X_train_sq.shape[2]),\n",
        "      )\n",
        "  )\n",
        "\n",
        "  for i in range(hp.Int('n_layers', 1, 4)):\n",
        "    model.add(\n",
        "        layers.LSTM(\n",
        "            hp.Int(f\"{i} units\", min_value=32, max_value=256, step=32),\n",
        "            return_sequences=True\n",
        "        )\n",
        "    )\n",
        "\n",
        "  model.add(\n",
        "      layers.LSTM(\n",
        "          units=hp.Int('unit_2', min_value=32, max_value=256, step=32), return_sequences=False\n",
        "      )\n",
        "  )\n",
        "\n",
        "  model.add(\n",
        "      layers.Dropout(\n",
        "            rate = hp.Float('dropout', min_value=0.1, max_value=0.5, step=0.1)\n",
        "      )\n",
        "  )\n",
        "  model.add(\n",
        "      layers.Dense(\n",
        "          units=hp.Int('dense', min_value=16, max_value=128, step=16),\n",
        "          activation=hp.Choice('dense_act2', values=['relu', 'linear', 'sigmoid'])\n",
        "      )\n",
        "  )\n",
        "\n",
        "  model.add(\n",
        "      layers.Dense(\n",
        "          1,\n",
        "          activation=hp.Choice('dense_act2', values=['relu', 'linear', 'sigmoid'])\n",
        "      )\n",
        "  )\n",
        "\n",
        "  model.compile(\n",
        "      optimizer=optimizers.Adam(learning_rate=hp.Choice('lr', [1e-3, 5e-4, 1e-4])),\n",
        "      loss='mae',\n",
        "      metrics=[RootMeanSquaredError(), MeanAbsoluteError()]\n",
        "  )\n",
        "\n",
        "  return model"
      ],
      "metadata": {
        "id": "qiEGj802u5xm"
      },
      "execution_count": 17,
      "outputs": []
    },
    {
      "cell_type": "code",
      "source": [
        "tunes = kt.RandomSearch(\n",
        "    LSTM_model_builder,\n",
        "    objective='mean_absolute_error',\n",
        "    max_trials=10,\n",
        "    executions_per_trial=1,\n",
        "    directory='tuning_dir_retry',\n",
        "    project_name='LSTM_tuning'\n",
        ")"
      ],
      "metadata": {
        "colab": {
          "base_uri": "https://localhost:8080/"
        },
        "id": "ywx5GN_xu7Ji",
        "outputId": "42ac661f-b904-4be0-aad6-77af4c3bcc60"
      },
      "execution_count": 21,
      "outputs": [
        {
          "output_type": "stream",
          "name": "stdout",
          "text": [
            "Reloading Tuner from tuning_dir_retry/LSTM_tuning/tuner0.json\n"
          ]
        }
      ]
    },
    {
      "cell_type": "code",
      "source": [
        "tunes.search(\n",
        "    x=X_train_sq,\n",
        "    y=y_train_sq,\n",
        "    epochs=40,\n",
        "    batch_size=64,\n",
        ")"
      ],
      "metadata": {
        "colab": {
          "base_uri": "https://localhost:8080/"
        },
        "id": "hNuUo7piu82o",
        "outputId": "0e7fc8d3-021e-4fb3-cac3-55c30112f74c"
      },
      "execution_count": 22,
      "outputs": [
        {
          "output_type": "stream",
          "name": "stdout",
          "text": [
            "Trial 10 Complete [00h 05m 55s]\n",
            "mean_absolute_error: 0.0949392020702362\n",
            "\n",
            "Best mean_absolute_error So Far: 0.018347369506955147\n",
            "Total elapsed time: 00h 58m 43s\n"
          ]
        }
      ]
    },
    {
      "cell_type": "code",
      "source": [
        "best_parameter = tunes.get_best_hyperparameters(num_trials=1)[0]\n",
        "\n",
        "for par in best_parameter.values:\n",
        "  print(f\"{par}: {best_parameter.get(par)}\")"
      ],
      "metadata": {
        "id": "Nh0X70iyvI8V",
        "colab": {
          "base_uri": "https://localhost:8080/"
        },
        "outputId": "18185803-a455-43b5-e7fb-4b27f9ebb06c"
      },
      "execution_count": 23,
      "outputs": [
        {
          "output_type": "stream",
          "name": "stdout",
          "text": [
            "unit_1: 192\n",
            "n_layers: 3\n",
            "0 units: 128\n",
            "unit_2: 64\n",
            "dropout: 0.2\n",
            "dense: 80\n",
            "dense_act2: relu\n",
            "lr: 0.001\n",
            "1 units: 64\n",
            "2 units: 96\n",
            "3 units: 224\n"
          ]
        }
      ]
    },
    {
      "cell_type": "code",
      "source": [
        "best_mod = tunes.hypermodel.build(best_parameter)"
      ],
      "metadata": {
        "id": "IJnwpi3tvJRO"
      },
      "execution_count": 24,
      "outputs": []
    },
    {
      "cell_type": "code",
      "source": [
        "best_mod.summary()"
      ],
      "metadata": {
        "id": "I7SXnAYZvJ_k",
        "colab": {
          "base_uri": "https://localhost:8080/",
          "height": 385
        },
        "outputId": "3c363b82-323e-4588-dc76-d7bc578112f5"
      },
      "execution_count": 25,
      "outputs": [
        {
          "output_type": "display_data",
          "data": {
            "text/plain": [
              "\u001b[1mModel: \"sequential_1\"\u001b[0m\n"
            ],
            "text/html": [
              "<pre style=\"white-space:pre;overflow-x:auto;line-height:normal;font-family:Menlo,'DejaVu Sans Mono',consolas,'Courier New',monospace\"><span style=\"font-weight: bold\">Model: \"sequential_1\"</span>\n",
              "</pre>\n"
            ]
          },
          "metadata": {}
        },
        {
          "output_type": "display_data",
          "data": {
            "text/plain": [
              "┏━━━━━━━━━━━━━━━━━━━━━━━━━━━━━━━━━┳━━━━━━━━━━━━━━━━━━━━━━━━┳━━━━━━━━━━━━━━━┓\n",
              "┃\u001b[1m \u001b[0m\u001b[1mLayer (type)                   \u001b[0m\u001b[1m \u001b[0m┃\u001b[1m \u001b[0m\u001b[1mOutput Shape          \u001b[0m\u001b[1m \u001b[0m┃\u001b[1m \u001b[0m\u001b[1m      Param #\u001b[0m\u001b[1m \u001b[0m┃\n",
              "┡━━━━━━━━━━━━━━━━━━━━━━━━━━━━━━━━━╇━━━━━━━━━━━━━━━━━━━━━━━━╇━━━━━━━━━━━━━━━┩\n",
              "│ lstm_5 (\u001b[38;5;33mLSTM\u001b[0m)                   │ (\u001b[38;5;45mNone\u001b[0m, \u001b[38;5;34m12\u001b[0m, \u001b[38;5;34m192\u001b[0m)        │       \u001b[38;5;34m164,352\u001b[0m │\n",
              "├─────────────────────────────────┼────────────────────────┼───────────────┤\n",
              "│ lstm_6 (\u001b[38;5;33mLSTM\u001b[0m)                   │ (\u001b[38;5;45mNone\u001b[0m, \u001b[38;5;34m12\u001b[0m, \u001b[38;5;34m128\u001b[0m)        │       \u001b[38;5;34m164,352\u001b[0m │\n",
              "├─────────────────────────────────┼────────────────────────┼───────────────┤\n",
              "│ lstm_7 (\u001b[38;5;33mLSTM\u001b[0m)                   │ (\u001b[38;5;45mNone\u001b[0m, \u001b[38;5;34m12\u001b[0m, \u001b[38;5;34m64\u001b[0m)         │        \u001b[38;5;34m49,408\u001b[0m │\n",
              "├─────────────────────────────────┼────────────────────────┼───────────────┤\n",
              "│ lstm_8 (\u001b[38;5;33mLSTM\u001b[0m)                   │ (\u001b[38;5;45mNone\u001b[0m, \u001b[38;5;34m12\u001b[0m, \u001b[38;5;34m96\u001b[0m)         │        \u001b[38;5;34m61,824\u001b[0m │\n",
              "├─────────────────────────────────┼────────────────────────┼───────────────┤\n",
              "│ lstm_9 (\u001b[38;5;33mLSTM\u001b[0m)                   │ (\u001b[38;5;45mNone\u001b[0m, \u001b[38;5;34m64\u001b[0m)             │        \u001b[38;5;34m41,216\u001b[0m │\n",
              "├─────────────────────────────────┼────────────────────────┼───────────────┤\n",
              "│ dropout_1 (\u001b[38;5;33mDropout\u001b[0m)             │ (\u001b[38;5;45mNone\u001b[0m, \u001b[38;5;34m64\u001b[0m)             │             \u001b[38;5;34m0\u001b[0m │\n",
              "├─────────────────────────────────┼────────────────────────┼───────────────┤\n",
              "│ dense_2 (\u001b[38;5;33mDense\u001b[0m)                 │ (\u001b[38;5;45mNone\u001b[0m, \u001b[38;5;34m80\u001b[0m)             │         \u001b[38;5;34m5,200\u001b[0m │\n",
              "├─────────────────────────────────┼────────────────────────┼───────────────┤\n",
              "│ dense_3 (\u001b[38;5;33mDense\u001b[0m)                 │ (\u001b[38;5;45mNone\u001b[0m, \u001b[38;5;34m1\u001b[0m)              │            \u001b[38;5;34m81\u001b[0m │\n",
              "└─────────────────────────────────┴────────────────────────┴───────────────┘\n"
            ],
            "text/html": [
              "<pre style=\"white-space:pre;overflow-x:auto;line-height:normal;font-family:Menlo,'DejaVu Sans Mono',consolas,'Courier New',monospace\">┏━━━━━━━━━━━━━━━━━━━━━━━━━━━━━━━━━┳━━━━━━━━━━━━━━━━━━━━━━━━┳━━━━━━━━━━━━━━━┓\n",
              "┃<span style=\"font-weight: bold\"> Layer (type)                    </span>┃<span style=\"font-weight: bold\"> Output Shape           </span>┃<span style=\"font-weight: bold\">       Param # </span>┃\n",
              "┡━━━━━━━━━━━━━━━━━━━━━━━━━━━━━━━━━╇━━━━━━━━━━━━━━━━━━━━━━━━╇━━━━━━━━━━━━━━━┩\n",
              "│ lstm_5 (<span style=\"color: #0087ff; text-decoration-color: #0087ff\">LSTM</span>)                   │ (<span style=\"color: #00d7ff; text-decoration-color: #00d7ff\">None</span>, <span style=\"color: #00af00; text-decoration-color: #00af00\">12</span>, <span style=\"color: #00af00; text-decoration-color: #00af00\">192</span>)        │       <span style=\"color: #00af00; text-decoration-color: #00af00\">164,352</span> │\n",
              "├─────────────────────────────────┼────────────────────────┼───────────────┤\n",
              "│ lstm_6 (<span style=\"color: #0087ff; text-decoration-color: #0087ff\">LSTM</span>)                   │ (<span style=\"color: #00d7ff; text-decoration-color: #00d7ff\">None</span>, <span style=\"color: #00af00; text-decoration-color: #00af00\">12</span>, <span style=\"color: #00af00; text-decoration-color: #00af00\">128</span>)        │       <span style=\"color: #00af00; text-decoration-color: #00af00\">164,352</span> │\n",
              "├─────────────────────────────────┼────────────────────────┼───────────────┤\n",
              "│ lstm_7 (<span style=\"color: #0087ff; text-decoration-color: #0087ff\">LSTM</span>)                   │ (<span style=\"color: #00d7ff; text-decoration-color: #00d7ff\">None</span>, <span style=\"color: #00af00; text-decoration-color: #00af00\">12</span>, <span style=\"color: #00af00; text-decoration-color: #00af00\">64</span>)         │        <span style=\"color: #00af00; text-decoration-color: #00af00\">49,408</span> │\n",
              "├─────────────────────────────────┼────────────────────────┼───────────────┤\n",
              "│ lstm_8 (<span style=\"color: #0087ff; text-decoration-color: #0087ff\">LSTM</span>)                   │ (<span style=\"color: #00d7ff; text-decoration-color: #00d7ff\">None</span>, <span style=\"color: #00af00; text-decoration-color: #00af00\">12</span>, <span style=\"color: #00af00; text-decoration-color: #00af00\">96</span>)         │        <span style=\"color: #00af00; text-decoration-color: #00af00\">61,824</span> │\n",
              "├─────────────────────────────────┼────────────────────────┼───────────────┤\n",
              "│ lstm_9 (<span style=\"color: #0087ff; text-decoration-color: #0087ff\">LSTM</span>)                   │ (<span style=\"color: #00d7ff; text-decoration-color: #00d7ff\">None</span>, <span style=\"color: #00af00; text-decoration-color: #00af00\">64</span>)             │        <span style=\"color: #00af00; text-decoration-color: #00af00\">41,216</span> │\n",
              "├─────────────────────────────────┼────────────────────────┼───────────────┤\n",
              "│ dropout_1 (<span style=\"color: #0087ff; text-decoration-color: #0087ff\">Dropout</span>)             │ (<span style=\"color: #00d7ff; text-decoration-color: #00d7ff\">None</span>, <span style=\"color: #00af00; text-decoration-color: #00af00\">64</span>)             │             <span style=\"color: #00af00; text-decoration-color: #00af00\">0</span> │\n",
              "├─────────────────────────────────┼────────────────────────┼───────────────┤\n",
              "│ dense_2 (<span style=\"color: #0087ff; text-decoration-color: #0087ff\">Dense</span>)                 │ (<span style=\"color: #00d7ff; text-decoration-color: #00d7ff\">None</span>, <span style=\"color: #00af00; text-decoration-color: #00af00\">80</span>)             │         <span style=\"color: #00af00; text-decoration-color: #00af00\">5,200</span> │\n",
              "├─────────────────────────────────┼────────────────────────┼───────────────┤\n",
              "│ dense_3 (<span style=\"color: #0087ff; text-decoration-color: #0087ff\">Dense</span>)                 │ (<span style=\"color: #00d7ff; text-decoration-color: #00d7ff\">None</span>, <span style=\"color: #00af00; text-decoration-color: #00af00\">1</span>)              │            <span style=\"color: #00af00; text-decoration-color: #00af00\">81</span> │\n",
              "└─────────────────────────────────┴────────────────────────┴───────────────┘\n",
              "</pre>\n"
            ]
          },
          "metadata": {}
        },
        {
          "output_type": "display_data",
          "data": {
            "text/plain": [
              "\u001b[1m Total params: \u001b[0m\u001b[38;5;34m486,433\u001b[0m (1.86 MB)\n"
            ],
            "text/html": [
              "<pre style=\"white-space:pre;overflow-x:auto;line-height:normal;font-family:Menlo,'DejaVu Sans Mono',consolas,'Courier New',monospace\"><span style=\"font-weight: bold\"> Total params: </span><span style=\"color: #00af00; text-decoration-color: #00af00\">486,433</span> (1.86 MB)\n",
              "</pre>\n"
            ]
          },
          "metadata": {}
        },
        {
          "output_type": "display_data",
          "data": {
            "text/plain": [
              "\u001b[1m Trainable params: \u001b[0m\u001b[38;5;34m486,433\u001b[0m (1.86 MB)\n"
            ],
            "text/html": [
              "<pre style=\"white-space:pre;overflow-x:auto;line-height:normal;font-family:Menlo,'DejaVu Sans Mono',consolas,'Courier New',monospace\"><span style=\"font-weight: bold\"> Trainable params: </span><span style=\"color: #00af00; text-decoration-color: #00af00\">486,433</span> (1.86 MB)\n",
              "</pre>\n"
            ]
          },
          "metadata": {}
        },
        {
          "output_type": "display_data",
          "data": {
            "text/plain": [
              "\u001b[1m Non-trainable params: \u001b[0m\u001b[38;5;34m0\u001b[0m (0.00 B)\n"
            ],
            "text/html": [
              "<pre style=\"white-space:pre;overflow-x:auto;line-height:normal;font-family:Menlo,'DejaVu Sans Mono',consolas,'Courier New',monospace\"><span style=\"font-weight: bold\"> Non-trainable params: </span><span style=\"color: #00af00; text-decoration-color: #00af00\">0</span> (0.00 B)\n",
              "</pre>\n"
            ]
          },
          "metadata": {}
        }
      ]
    },
    {
      "cell_type": "code",
      "source": [
        "training_start = time.time()\n",
        "best_mod.fit(X_train_sq, y_train_sq, epochs=50)\n",
        "training_end = time.time()"
      ],
      "metadata": {
        "id": "NIzRMcyMvLSH",
        "colab": {
          "base_uri": "https://localhost:8080/"
        },
        "outputId": "117b9ba0-d5e5-4af3-ae7b-ff4b30c98520"
      },
      "execution_count": 26,
      "outputs": [
        {
          "output_type": "stream",
          "name": "stdout",
          "text": [
            "Epoch 1/50\n",
            "\u001b[1m1078/1078\u001b[0m \u001b[32m━━━━━━━━━━━━━━━━━━━━\u001b[0m\u001b[37m\u001b[0m \u001b[1m16s\u001b[0m 11ms/step - loss: 0.0605 - mean_absolute_error: 0.0605 - root_mean_squared_error: 0.1131\n",
            "Epoch 2/50\n",
            "\u001b[1m1078/1078\u001b[0m \u001b[32m━━━━━━━━━━━━━━━━━━━━\u001b[0m\u001b[37m\u001b[0m \u001b[1m20s\u001b[0m 11ms/step - loss: 0.0412 - mean_absolute_error: 0.0412 - root_mean_squared_error: 0.0780\n",
            "Epoch 3/50\n",
            "\u001b[1m1078/1078\u001b[0m \u001b[32m━━━━━━━━━━━━━━━━━━━━\u001b[0m\u001b[37m\u001b[0m \u001b[1m21s\u001b[0m 11ms/step - loss: 0.0381 - mean_absolute_error: 0.0381 - root_mean_squared_error: 0.0728\n",
            "Epoch 4/50\n",
            "\u001b[1m1078/1078\u001b[0m \u001b[32m━━━━━━━━━━━━━━━━━━━━\u001b[0m\u001b[37m\u001b[0m \u001b[1m12s\u001b[0m 11ms/step - loss: 0.0363 - mean_absolute_error: 0.0363 - root_mean_squared_error: 0.0714\n",
            "Epoch 5/50\n",
            "\u001b[1m1078/1078\u001b[0m \u001b[32m━━━━━━━━━━━━━━━━━━━━\u001b[0m\u001b[37m\u001b[0m \u001b[1m20s\u001b[0m 11ms/step - loss: 0.0357 - mean_absolute_error: 0.0357 - root_mean_squared_error: 0.0716\n",
            "Epoch 6/50\n",
            "\u001b[1m1078/1078\u001b[0m \u001b[32m━━━━━━━━━━━━━━━━━━━━\u001b[0m\u001b[37m\u001b[0m \u001b[1m20s\u001b[0m 11ms/step - loss: 0.0331 - mean_absolute_error: 0.0331 - root_mean_squared_error: 0.0648\n",
            "Epoch 7/50\n",
            "\u001b[1m1078/1078\u001b[0m \u001b[32m━━━━━━━━━━━━━━━━━━━━\u001b[0m\u001b[37m\u001b[0m \u001b[1m21s\u001b[0m 11ms/step - loss: 0.0322 - mean_absolute_error: 0.0322 - root_mean_squared_error: 0.0639\n",
            "Epoch 8/50\n",
            "\u001b[1m1078/1078\u001b[0m \u001b[32m━━━━━━━━━━━━━━━━━━━━\u001b[0m\u001b[37m\u001b[0m \u001b[1m20s\u001b[0m 11ms/step - loss: 0.0312 - mean_absolute_error: 0.0312 - root_mean_squared_error: 0.0614\n",
            "Epoch 9/50\n",
            "\u001b[1m1078/1078\u001b[0m \u001b[32m━━━━━━━━━━━━━━━━━━━━\u001b[0m\u001b[37m\u001b[0m \u001b[1m12s\u001b[0m 11ms/step - loss: 0.0299 - mean_absolute_error: 0.0299 - root_mean_squared_error: 0.0589\n",
            "Epoch 10/50\n",
            "\u001b[1m1078/1078\u001b[0m \u001b[32m━━━━━━━━━━━━━━━━━━━━\u001b[0m\u001b[37m\u001b[0m \u001b[1m21s\u001b[0m 11ms/step - loss: 0.0278 - mean_absolute_error: 0.0278 - root_mean_squared_error: 0.0545\n",
            "Epoch 11/50\n",
            "\u001b[1m1078/1078\u001b[0m \u001b[32m━━━━━━━━━━━━━━━━━━━━\u001b[0m\u001b[37m\u001b[0m \u001b[1m20s\u001b[0m 11ms/step - loss: 0.0265 - mean_absolute_error: 0.0265 - root_mean_squared_error: 0.0511\n",
            "Epoch 12/50\n",
            "\u001b[1m1078/1078\u001b[0m \u001b[32m━━━━━━━━━━━━━━━━━━━━\u001b[0m\u001b[37m\u001b[0m \u001b[1m12s\u001b[0m 11ms/step - loss: 0.0252 - mean_absolute_error: 0.0252 - root_mean_squared_error: 0.0487\n",
            "Epoch 13/50\n",
            "\u001b[1m1078/1078\u001b[0m \u001b[32m━━━━━━━━━━━━━━━━━━━━\u001b[0m\u001b[37m\u001b[0m \u001b[1m12s\u001b[0m 11ms/step - loss: 0.0240 - mean_absolute_error: 0.0240 - root_mean_squared_error: 0.0466\n",
            "Epoch 14/50\n",
            "\u001b[1m1078/1078\u001b[0m \u001b[32m━━━━━━━━━━━━━━━━━━━━\u001b[0m\u001b[37m\u001b[0m \u001b[1m20s\u001b[0m 11ms/step - loss: 0.0243 - mean_absolute_error: 0.0243 - root_mean_squared_error: 0.0471\n",
            "Epoch 15/50\n",
            "\u001b[1m1078/1078\u001b[0m \u001b[32m━━━━━━━━━━━━━━━━━━━━\u001b[0m\u001b[37m\u001b[0m \u001b[1m21s\u001b[0m 11ms/step - loss: 0.0235 - mean_absolute_error: 0.0235 - root_mean_squared_error: 0.0453\n",
            "Epoch 16/50\n",
            "\u001b[1m1078/1078\u001b[0m \u001b[32m━━━━━━━━━━━━━━━━━━━━\u001b[0m\u001b[37m\u001b[0m \u001b[1m20s\u001b[0m 11ms/step - loss: 0.0229 - mean_absolute_error: 0.0229 - root_mean_squared_error: 0.0441\n",
            "Epoch 17/50\n",
            "\u001b[1m1078/1078\u001b[0m \u001b[32m━━━━━━━━━━━━━━━━━━━━\u001b[0m\u001b[37m\u001b[0m \u001b[1m20s\u001b[0m 11ms/step - loss: 0.0223 - mean_absolute_error: 0.0223 - root_mean_squared_error: 0.0432\n",
            "Epoch 18/50\n",
            "\u001b[1m1078/1078\u001b[0m \u001b[32m━━━━━━━━━━━━━━━━━━━━\u001b[0m\u001b[37m\u001b[0m \u001b[1m12s\u001b[0m 11ms/step - loss: 0.0221 - mean_absolute_error: 0.0221 - root_mean_squared_error: 0.0431\n",
            "Epoch 19/50\n",
            "\u001b[1m1078/1078\u001b[0m \u001b[32m━━━━━━━━━━━━━━━━━━━━\u001b[0m\u001b[37m\u001b[0m \u001b[1m21s\u001b[0m 11ms/step - loss: 0.0214 - mean_absolute_error: 0.0214 - root_mean_squared_error: 0.0413\n",
            "Epoch 20/50\n",
            "\u001b[1m1078/1078\u001b[0m \u001b[32m━━━━━━━━━━━━━━━━━━━━\u001b[0m\u001b[37m\u001b[0m \u001b[1m12s\u001b[0m 11ms/step - loss: 0.0214 - mean_absolute_error: 0.0214 - root_mean_squared_error: 0.0417\n",
            "Epoch 21/50\n",
            "\u001b[1m1078/1078\u001b[0m \u001b[32m━━━━━━━━━━━━━━━━━━━━\u001b[0m\u001b[37m\u001b[0m \u001b[1m21s\u001b[0m 11ms/step - loss: 0.0211 - mean_absolute_error: 0.0211 - root_mean_squared_error: 0.0411\n",
            "Epoch 22/50\n",
            "\u001b[1m1078/1078\u001b[0m \u001b[32m━━━━━━━━━━━━━━━━━━━━\u001b[0m\u001b[37m\u001b[0m \u001b[1m20s\u001b[0m 11ms/step - loss: 0.0206 - mean_absolute_error: 0.0206 - root_mean_squared_error: 0.0396\n",
            "Epoch 23/50\n",
            "\u001b[1m1078/1078\u001b[0m \u001b[32m━━━━━━━━━━━━━━━━━━━━\u001b[0m\u001b[37m\u001b[0m \u001b[1m21s\u001b[0m 11ms/step - loss: 0.0205 - mean_absolute_error: 0.0205 - root_mean_squared_error: 0.0396\n",
            "Epoch 24/50\n",
            "\u001b[1m1078/1078\u001b[0m \u001b[32m━━━━━━━━━━━━━━━━━━━━\u001b[0m\u001b[37m\u001b[0m \u001b[1m20s\u001b[0m 11ms/step - loss: 0.0205 - mean_absolute_error: 0.0205 - root_mean_squared_error: 0.0398\n",
            "Epoch 25/50\n",
            "\u001b[1m1078/1078\u001b[0m \u001b[32m━━━━━━━━━━━━━━━━━━━━\u001b[0m\u001b[37m\u001b[0m \u001b[1m21s\u001b[0m 11ms/step - loss: 0.0201 - mean_absolute_error: 0.0201 - root_mean_squared_error: 0.0388\n",
            "Epoch 26/50\n",
            "\u001b[1m1078/1078\u001b[0m \u001b[32m━━━━━━━━━━━━━━━━━━━━\u001b[0m\u001b[37m\u001b[0m \u001b[1m20s\u001b[0m 11ms/step - loss: 0.0201 - mean_absolute_error: 0.0201 - root_mean_squared_error: 0.0395\n",
            "Epoch 27/50\n",
            "\u001b[1m1078/1078\u001b[0m \u001b[32m━━━━━━━━━━━━━━━━━━━━\u001b[0m\u001b[37m\u001b[0m \u001b[1m21s\u001b[0m 11ms/step - loss: 0.0195 - mean_absolute_error: 0.0195 - root_mean_squared_error: 0.0378\n",
            "Epoch 28/50\n",
            "\u001b[1m1078/1078\u001b[0m \u001b[32m━━━━━━━━━━━━━━━━━━━━\u001b[0m\u001b[37m\u001b[0m \u001b[1m20s\u001b[0m 11ms/step - loss: 0.0195 - mean_absolute_error: 0.0195 - root_mean_squared_error: 0.0382\n",
            "Epoch 29/50\n",
            "\u001b[1m1078/1078\u001b[0m \u001b[32m━━━━━━━━━━━━━━━━━━━━\u001b[0m\u001b[37m\u001b[0m \u001b[1m21s\u001b[0m 11ms/step - loss: 0.0192 - mean_absolute_error: 0.0192 - root_mean_squared_error: 0.0373\n",
            "Epoch 30/50\n",
            "\u001b[1m1078/1078\u001b[0m \u001b[32m━━━━━━━━━━━━━━━━━━━━\u001b[0m\u001b[37m\u001b[0m \u001b[1m20s\u001b[0m 11ms/step - loss: 0.0188 - mean_absolute_error: 0.0188 - root_mean_squared_error: 0.0366\n",
            "Epoch 31/50\n",
            "\u001b[1m1078/1078\u001b[0m \u001b[32m━━━━━━━━━━━━━━━━━━━━\u001b[0m\u001b[37m\u001b[0m \u001b[1m21s\u001b[0m 11ms/step - loss: 0.0188 - mean_absolute_error: 0.0188 - root_mean_squared_error: 0.0368\n",
            "Epoch 32/50\n",
            "\u001b[1m1078/1078\u001b[0m \u001b[32m━━━━━━━━━━━━━━━━━━━━\u001b[0m\u001b[37m\u001b[0m \u001b[1m20s\u001b[0m 11ms/step - loss: 0.0186 - mean_absolute_error: 0.0186 - root_mean_squared_error: 0.0361\n",
            "Epoch 33/50\n",
            "\u001b[1m1078/1078\u001b[0m \u001b[32m━━━━━━━━━━━━━━━━━━━━\u001b[0m\u001b[37m\u001b[0m \u001b[1m20s\u001b[0m 11ms/step - loss: 0.0185 - mean_absolute_error: 0.0185 - root_mean_squared_error: 0.0358\n",
            "Epoch 34/50\n",
            "\u001b[1m1078/1078\u001b[0m \u001b[32m━━━━━━━━━━━━━━━━━━━━\u001b[0m\u001b[37m\u001b[0m \u001b[1m12s\u001b[0m 11ms/step - loss: 0.0180 - mean_absolute_error: 0.0180 - root_mean_squared_error: 0.0346\n",
            "Epoch 35/50\n",
            "\u001b[1m1078/1078\u001b[0m \u001b[32m━━━━━━━━━━━━━━━━━━━━\u001b[0m\u001b[37m\u001b[0m \u001b[1m12s\u001b[0m 11ms/step - loss: 0.0181 - mean_absolute_error: 0.0181 - root_mean_squared_error: 0.0352\n",
            "Epoch 36/50\n",
            "\u001b[1m1078/1078\u001b[0m \u001b[32m━━━━━━━━━━━━━━━━━━━━\u001b[0m\u001b[37m\u001b[0m \u001b[1m12s\u001b[0m 11ms/step - loss: 0.0180 - mean_absolute_error: 0.0180 - root_mean_squared_error: 0.0348\n",
            "Epoch 37/50\n",
            "\u001b[1m1078/1078\u001b[0m \u001b[32m━━━━━━━━━━━━━━━━━━━━\u001b[0m\u001b[37m\u001b[0m \u001b[1m21s\u001b[0m 11ms/step - loss: 0.0175 - mean_absolute_error: 0.0175 - root_mean_squared_error: 0.0340\n",
            "Epoch 38/50\n",
            "\u001b[1m1078/1078\u001b[0m \u001b[32m━━━━━━━━━━━━━━━━━━━━\u001b[0m\u001b[37m\u001b[0m \u001b[1m12s\u001b[0m 11ms/step - loss: 0.0171 - mean_absolute_error: 0.0171 - root_mean_squared_error: 0.0329\n",
            "Epoch 39/50\n",
            "\u001b[1m1078/1078\u001b[0m \u001b[32m━━━━━━━━━━━━━━━━━━━━\u001b[0m\u001b[37m\u001b[0m \u001b[1m12s\u001b[0m 11ms/step - loss: 0.0173 - mean_absolute_error: 0.0173 - root_mean_squared_error: 0.0333\n",
            "Epoch 40/50\n",
            "\u001b[1m1078/1078\u001b[0m \u001b[32m━━━━━━━━━━━━━━━━━━━━\u001b[0m\u001b[37m\u001b[0m \u001b[1m12s\u001b[0m 11ms/step - loss: 0.0169 - mean_absolute_error: 0.0169 - root_mean_squared_error: 0.0325\n",
            "Epoch 41/50\n",
            "\u001b[1m1078/1078\u001b[0m \u001b[32m━━━━━━━━━━━━━━━━━━━━\u001b[0m\u001b[37m\u001b[0m \u001b[1m20s\u001b[0m 11ms/step - loss: 0.0165 - mean_absolute_error: 0.0165 - root_mean_squared_error: 0.0319\n",
            "Epoch 42/50\n",
            "\u001b[1m1078/1078\u001b[0m \u001b[32m━━━━━━━━━━━━━━━━━━━━\u001b[0m\u001b[37m\u001b[0m \u001b[1m20s\u001b[0m 11ms/step - loss: 0.0167 - mean_absolute_error: 0.0167 - root_mean_squared_error: 0.0325\n",
            "Epoch 43/50\n",
            "\u001b[1m1078/1078\u001b[0m \u001b[32m━━━━━━━━━━━━━━━━━━━━\u001b[0m\u001b[37m\u001b[0m \u001b[1m20s\u001b[0m 11ms/step - loss: 0.0162 - mean_absolute_error: 0.0162 - root_mean_squared_error: 0.0313\n",
            "Epoch 44/50\n",
            "\u001b[1m1078/1078\u001b[0m \u001b[32m━━━━━━━━━━━━━━━━━━━━\u001b[0m\u001b[37m\u001b[0m \u001b[1m20s\u001b[0m 11ms/step - loss: 0.0164 - mean_absolute_error: 0.0164 - root_mean_squared_error: 0.0319\n",
            "Epoch 45/50\n",
            "\u001b[1m1078/1078\u001b[0m \u001b[32m━━━━━━━━━━━━━━━━━━━━\u001b[0m\u001b[37m\u001b[0m \u001b[1m21s\u001b[0m 11ms/step - loss: 0.0159 - mean_absolute_error: 0.0159 - root_mean_squared_error: 0.0309\n",
            "Epoch 46/50\n",
            "\u001b[1m1078/1078\u001b[0m \u001b[32m━━━━━━━━━━━━━━━━━━━━\u001b[0m\u001b[37m\u001b[0m \u001b[1m20s\u001b[0m 11ms/step - loss: 0.0160 - mean_absolute_error: 0.0160 - root_mean_squared_error: 0.0309\n",
            "Epoch 47/50\n",
            "\u001b[1m1078/1078\u001b[0m \u001b[32m━━━━━━━━━━━━━━━━━━━━\u001b[0m\u001b[37m\u001b[0m \u001b[1m20s\u001b[0m 11ms/step - loss: 0.0158 - mean_absolute_error: 0.0158 - root_mean_squared_error: 0.0303\n",
            "Epoch 48/50\n",
            "\u001b[1m1078/1078\u001b[0m \u001b[32m━━━━━━━━━━━━━━━━━━━━\u001b[0m\u001b[37m\u001b[0m \u001b[1m12s\u001b[0m 11ms/step - loss: 0.0152 - mean_absolute_error: 0.0152 - root_mean_squared_error: 0.0292\n",
            "Epoch 49/50\n",
            "\u001b[1m1078/1078\u001b[0m \u001b[32m━━━━━━━━━━━━━━━━━━━━\u001b[0m\u001b[37m\u001b[0m \u001b[1m20s\u001b[0m 11ms/step - loss: 0.0152 - mean_absolute_error: 0.0152 - root_mean_squared_error: 0.0290\n",
            "Epoch 50/50\n",
            "\u001b[1m1078/1078\u001b[0m \u001b[32m━━━━━━━━━━━━━━━━━━━━\u001b[0m\u001b[37m\u001b[0m \u001b[1m21s\u001b[0m 11ms/step - loss: 0.0150 - mean_absolute_error: 0.0150 - root_mean_squared_error: 0.0288\n"
          ]
        }
      ]
    },
    {
      "cell_type": "code",
      "source": [
        "inference_start = time.time()\n",
        "y_pred_best = best_mod.predict(X_test_sq)\n",
        "inference_end = time.time()\n",
        "y_pred_best_train = best_mod.predict(X_train_sq)"
      ],
      "metadata": {
        "id": "Fv0k8yPXvPyX",
        "colab": {
          "base_uri": "https://localhost:8080/"
        },
        "outputId": "1dc5a322-a654-4d61-e206-2c4b9bf23260"
      },
      "execution_count": 27,
      "outputs": [
        {
          "output_type": "stream",
          "name": "stdout",
          "text": [
            "\u001b[1m270/270\u001b[0m \u001b[32m━━━━━━━━━━━━━━━━━━━━\u001b[0m\u001b[37m\u001b[0m \u001b[1m2s\u001b[0m 4ms/step\n",
            "\u001b[1m1078/1078\u001b[0m \u001b[32m━━━━━━━━━━━━━━━━━━━━\u001b[0m\u001b[37m\u001b[0m \u001b[1m3s\u001b[0m 3ms/step\n"
          ]
        }
      ]
    },
    {
      "cell_type": "code",
      "source": [
        "y_train_inverse = minmax_y.inverse_transform(y_train_sq)\n",
        "y_test_inverse = minmax_y.inverse_transform(y_test_sq)\n",
        "\n",
        "y_train_pred_inv = minmax_y.inverse_transform(y_pred_best_train.reshape(-1, 1))\n",
        "y_test_pred_inv = minmax_y.inverse_transform(y_pred_best.reshape(-1, 1))"
      ],
      "metadata": {
        "id": "pj6wB1Tpe56Q"
      },
      "execution_count": 28,
      "outputs": []
    },
    {
      "cell_type": "code",
      "source": [
        "print(\"Min:\", y_test_sq.min())\n",
        "print(\"Smallest non-zero value:\", y_test_sq[y_test_sq > 0].min())\n",
        "print(\"Median:\", np.median(y_test_sq))\n",
        "print(\"Mean:\", np.mean(y_test_sq))"
      ],
      "metadata": {
        "colab": {
          "base_uri": "https://localhost:8080/"
        },
        "id": "dZqlgZvFcjab",
        "outputId": "9376ee1d-97b3-469a-8636-78e615614a0d"
      },
      "execution_count": 82,
      "outputs": [
        {
          "output_type": "stream",
          "name": "stdout",
          "text": [
            "Min: 0.0\n",
            "Smallest non-zero value: 1.271564112365386e-07\n",
            "Median: 0.06940565181697803\n",
            "Mean: 0.11739119835942327\n"
          ]
        }
      ]
    },
    {
      "cell_type": "code",
      "source": [
        "def fix_mape(y_true, y_pred, epsilon=0.01):\n",
        "    y_true_safe = np.where(np.abs(y_true) < epsilon, epsilon, y_true)\n",
        "    mape = np.mean(np.abs((y_true - y_pred) / y_true_safe)) * 100\n",
        "    return mape"
      ],
      "metadata": {
        "id": "XcPhTMK6VWF6"
      },
      "execution_count": 93,
      "outputs": []
    },
    {
      "cell_type": "code",
      "source": [
        "epsilons = [1e-6, 1e-4, 1e-3, 1e-2, 0.05, 0.1]\n",
        "for eps in epsilons:\n",
        "    mape = fix_mape(y_test_sq, y_pred_best, epsilon=eps)\n",
        "    print(f\"Epsilon = {eps:.6f} → MAPE = {mape:.2f}%\")"
      ],
      "metadata": {
        "colab": {
          "base_uri": "https://localhost:8080/"
        },
        "id": "vDbEz4imdb0R",
        "outputId": "27d10fed-8837-43b9-e99f-9b2f023644d8"
      },
      "execution_count": 94,
      "outputs": [
        {
          "output_type": "stream",
          "name": "stdout",
          "text": [
            "Epsilon = 0.000001 → MAPE = 949.65%\n",
            "Epsilon = 0.000100 → MAPE = 49.70%\n",
            "Epsilon = 0.001000 → MAPE = 30.64%\n",
            "Epsilon = 0.010000 → MAPE = 22.86%\n",
            "Epsilon = 0.050000 → MAPE = 14.59%\n",
            "Epsilon = 0.100000 → MAPE = 11.65%\n"
          ]
        }
      ]
    },
    {
      "cell_type": "code",
      "source": [
        "print(\"LSTM Test MAPE: \", fix_mape(y_test_sq, y_pred_best))"
      ],
      "metadata": {
        "colab": {
          "base_uri": "https://localhost:8080/"
        },
        "id": "5InHYVimbS6w",
        "outputId": "278ba04d-8049-46f1-d292-484a5eb6844c"
      },
      "execution_count": 95,
      "outputs": [
        {
          "output_type": "stream",
          "name": "stdout",
          "text": [
            "LSTM Test MAPE:  22.860635194591662\n"
          ]
        }
      ]
    },
    {
      "cell_type": "code",
      "source": [
        "print(\"LSTM Train MAPE: \", fix_mape(y_train_sq, y_pred_best_train))"
      ],
      "metadata": {
        "colab": {
          "base_uri": "https://localhost:8080/"
        },
        "id": "SFGtf-92d4Cd",
        "outputId": "d15d3a1c-00ee-4f6f-d68a-777a80cc1c24"
      },
      "execution_count": 96,
      "outputs": [
        {
          "output_type": "stream",
          "name": "stdout",
          "text": [
            "LSTM Train MAPE:  18.661273031648758\n"
          ]
        }
      ]
    },
    {
      "cell_type": "code",
      "source": [
        "print(\"LSTM Best Model Test RMSE Score: \", root_mean_squared_error(y_test_sq, y_pred_best))\n",
        "print(\"LSTM Best Model Test MAE Score: \", mean_absolute_error(y_test_sq, y_pred_best))\n",
        "print(\"LSTM Best Model Test R2 Score: \", r2_score(y_test_sq, y_pred_best))"
      ],
      "metadata": {
        "id": "rwyXbRdLvQnB",
        "colab": {
          "base_uri": "https://localhost:8080/"
        },
        "outputId": "2da3db43-ac36-478f-b773-31f448b3c285"
      },
      "execution_count": 97,
      "outputs": [
        {
          "output_type": "stream",
          "name": "stdout",
          "text": [
            "LSTM Best Model Test RMSE Score:  0.04259139636519108\n",
            "LSTM Best Model Test MAE Score:  0.021512811318682497\n",
            "LSTM Best Model Test R2 Score:  0.9203021705633319\n"
          ]
        }
      ]
    },
    {
      "cell_type": "code",
      "source": [
        "print(\"LSTM Best Model Train RMSE Score: \", root_mean_squared_error(y_train_sq, y_pred_best_train))\n",
        "print(\"LSTM Best Model Train MAE Score: \", mean_absolute_error(y_train_sq, y_pred_best_train))\n",
        "print(\"LSTM Best Model Train R2 Score: \", r2_score(y_train_sq, y_pred_best_train))"
      ],
      "metadata": {
        "id": "0KXSKjoivR0Y",
        "colab": {
          "base_uri": "https://localhost:8080/"
        },
        "outputId": "4764eb57-1c09-451d-dd54-1d72ba4fbd63"
      },
      "execution_count": 98,
      "outputs": [
        {
          "output_type": "stream",
          "name": "stdout",
          "text": [
            "LSTM Best Model Train RMSE Score:  0.026686151819039154\n",
            "LSTM Best Model Train MAE Score:  0.014311918994793848\n",
            "LSTM Best Model Train R2 Score:  0.9690919111202753\n"
          ]
        }
      ]
    },
    {
      "cell_type": "code",
      "source": [
        "best_mod.save('LSTM_best_model.keras')"
      ],
      "metadata": {
        "id": "QHwPUtwIvTru"
      },
      "execution_count": 99,
      "outputs": []
    },
    {
      "cell_type": "code",
      "source": [
        "from tensorflow.keras.models import load_model\n",
        "best_model = load_model(\"/content/LSTM_best_model.keras\")"
      ],
      "metadata": {
        "id": "5tnxraajlAnB"
      },
      "execution_count": 100,
      "outputs": []
    },
    {
      "cell_type": "code",
      "source": [
        "def permutation_importance(model, X, y, metric=mean_squared_error):\n",
        "    baseline = metric(y, model.predict(X))\n",
        "    importances = []\n",
        "    for i in range(X.shape[2]):\n",
        "        X_permuted = X.copy()\n",
        "        np.random.shuffle(X_permuted[:, :, i])\n",
        "        score = metric(y, model.predict(X_permuted))\n",
        "        importances.append(score - baseline)\n",
        "    return np.array(importances)"
      ],
      "metadata": {
        "id": "O9xGndeA58KF"
      },
      "execution_count": 101,
      "outputs": []
    },
    {
      "cell_type": "code",
      "source": [
        "importance = permutation_importance(best_model, X_test_sq, y_test_sq)"
      ],
      "metadata": {
        "id": "OchK-4TA6MHU",
        "colab": {
          "base_uri": "https://localhost:8080/"
        },
        "outputId": "104d1aac-8f84-4128-c712-0cc1ab4857c3"
      },
      "execution_count": 102,
      "outputs": [
        {
          "output_type": "stream",
          "name": "stdout",
          "text": [
            "\u001b[1m270/270\u001b[0m \u001b[32m━━━━━━━━━━━━━━━━━━━━\u001b[0m\u001b[37m\u001b[0m \u001b[1m2s\u001b[0m 6ms/step\n",
            "\u001b[1m270/270\u001b[0m \u001b[32m━━━━━━━━━━━━━━━━━━━━\u001b[0m\u001b[37m\u001b[0m \u001b[1m1s\u001b[0m 3ms/step\n",
            "\u001b[1m270/270\u001b[0m \u001b[32m━━━━━━━━━━━━━━━━━━━━\u001b[0m\u001b[37m\u001b[0m \u001b[1m1s\u001b[0m 3ms/step\n",
            "\u001b[1m270/270\u001b[0m \u001b[32m━━━━━━━━━━━━━━━━━━━━\u001b[0m\u001b[37m\u001b[0m \u001b[1m1s\u001b[0m 3ms/step\n",
            "\u001b[1m270/270\u001b[0m \u001b[32m━━━━━━━━━━━━━━━━━━━━\u001b[0m\u001b[37m\u001b[0m \u001b[1m1s\u001b[0m 3ms/step\n",
            "\u001b[1m270/270\u001b[0m \u001b[32m━━━━━━━━━━━━━━━━━━━━\u001b[0m\u001b[37m\u001b[0m \u001b[1m1s\u001b[0m 3ms/step\n",
            "\u001b[1m270/270\u001b[0m \u001b[32m━━━━━━━━━━━━━━━━━━━━\u001b[0m\u001b[37m\u001b[0m \u001b[1m1s\u001b[0m 4ms/step\n",
            "\u001b[1m270/270\u001b[0m \u001b[32m━━━━━━━━━━━━━━━━━━━━\u001b[0m\u001b[37m\u001b[0m \u001b[1m1s\u001b[0m 3ms/step\n",
            "\u001b[1m270/270\u001b[0m \u001b[32m━━━━━━━━━━━━━━━━━━━━\u001b[0m\u001b[37m\u001b[0m \u001b[1m1s\u001b[0m 3ms/step\n",
            "\u001b[1m270/270\u001b[0m \u001b[32m━━━━━━━━━━━━━━━━━━━━\u001b[0m\u001b[37m\u001b[0m \u001b[1m1s\u001b[0m 3ms/step\n",
            "\u001b[1m270/270\u001b[0m \u001b[32m━━━━━━━━━━━━━━━━━━━━\u001b[0m\u001b[37m\u001b[0m \u001b[1m1s\u001b[0m 5ms/step\n",
            "\u001b[1m270/270\u001b[0m \u001b[32m━━━━━━━━━━━━━━━━━━━━\u001b[0m\u001b[37m\u001b[0m \u001b[1m1s\u001b[0m 3ms/step\n",
            "\u001b[1m270/270\u001b[0m \u001b[32m━━━━━━━━━━━━━━━━━━━━\u001b[0m\u001b[37m\u001b[0m \u001b[1m1s\u001b[0m 3ms/step\n",
            "\u001b[1m270/270\u001b[0m \u001b[32m━━━━━━━━━━━━━━━━━━━━\u001b[0m\u001b[37m\u001b[0m \u001b[1m1s\u001b[0m 3ms/step\n",
            "\u001b[1m270/270\u001b[0m \u001b[32m━━━━━━━━━━━━━━━━━━━━\u001b[0m\u001b[37m\u001b[0m \u001b[1m1s\u001b[0m 3ms/step\n",
            "\u001b[1m270/270\u001b[0m \u001b[32m━━━━━━━━━━━━━━━━━━━━\u001b[0m\u001b[37m\u001b[0m \u001b[1m1s\u001b[0m 3ms/step\n",
            "\u001b[1m270/270\u001b[0m \u001b[32m━━━━━━━━━━━━━━━━━━━━\u001b[0m\u001b[37m\u001b[0m \u001b[1m1s\u001b[0m 3ms/step\n",
            "\u001b[1m270/270\u001b[0m \u001b[32m━━━━━━━━━━━━━━━━━━━━\u001b[0m\u001b[37m\u001b[0m \u001b[1m1s\u001b[0m 3ms/step\n",
            "\u001b[1m270/270\u001b[0m \u001b[32m━━━━━━━━━━━━━━━━━━━━\u001b[0m\u001b[37m\u001b[0m \u001b[1m1s\u001b[0m 3ms/step\n",
            "\u001b[1m270/270\u001b[0m \u001b[32m━━━━━━━━━━━━━━━━━━━━\u001b[0m\u001b[37m\u001b[0m \u001b[1m1s\u001b[0m 5ms/step\n",
            "\u001b[1m270/270\u001b[0m \u001b[32m━━━━━━━━━━━━━━━━━━━━\u001b[0m\u001b[37m\u001b[0m \u001b[1m1s\u001b[0m 3ms/step\n",
            "\u001b[1m270/270\u001b[0m \u001b[32m━━━━━━━━━━━━━━━━━━━━\u001b[0m\u001b[37m\u001b[0m \u001b[1m1s\u001b[0m 3ms/step\n"
          ]
        }
      ]
    },
    {
      "cell_type": "code",
      "source": [
        "feature = ['bcaod550', 'omaod550', 'aod550', 'tcco',\n",
        "       'tcno2', 'gtco3', 'tcso2', 'u10', 'v10', 'd2m', 't2m', 'sp', 'blh',\n",
        "       'tp', 'ssrd', 'hour', 'days', 'month', 'city_Delhi', 'city_Helsinki',\n",
        "       'city_Jakarta']\n",
        "\n",
        "sorted_idx = np.argsort(importance)[::-1]\n",
        "sorted_importances = importance[sorted_idx]\n",
        "sorted_features = np.array(feature)[sorted_idx]\n",
        "\n",
        "greater_than_zero_imp = sorted_importances[sorted_importances > 0]\n",
        "greater_than_zero_feat = sorted_features[sorted_importances > 0]\n",
        "\n",
        "top_n = 10\n",
        "top_importances = greater_than_zero_imp[:top_n]\n",
        "top_features = greater_than_zero_feat[:top_n]\n",
        "\n",
        "plt.figure(figsize=(10, 6))\n",
        "plt.barh(range(len(top_importances)), top_importances)\n",
        "plt.yticks(range(len(top_features)), top_features, rotation=45)\n",
        "plt.tight_layout()\n",
        "plt.gca().invert_yaxis()\n",
        "plt.savefig(\"lstm_feature_importance.png\", dpi=300, bbox_inches='tight')\n",
        "plt.close()"
      ],
      "metadata": {
        "id": "cF10HTEw8o1q"
      },
      "execution_count": 103,
      "outputs": []
    },
    {
      "cell_type": "code",
      "source": [
        "from google.colab import files\n",
        "files.download(\"lstm_feature_importance.png\")"
      ],
      "metadata": {
        "id": "Jd_NXTLNJrWh",
        "colab": {
          "base_uri": "https://localhost:8080/",
          "height": 17
        },
        "outputId": "6676e5b7-16ac-4700-fb61-f5a8247bc611"
      },
      "execution_count": 104,
      "outputs": [
        {
          "output_type": "display_data",
          "data": {
            "text/plain": [
              "<IPython.core.display.Javascript object>"
            ],
            "application/javascript": [
              "\n",
              "    async function download(id, filename, size) {\n",
              "      if (!google.colab.kernel.accessAllowed) {\n",
              "        return;\n",
              "      }\n",
              "      const div = document.createElement('div');\n",
              "      const label = document.createElement('label');\n",
              "      label.textContent = `Downloading \"${filename}\": `;\n",
              "      div.appendChild(label);\n",
              "      const progress = document.createElement('progress');\n",
              "      progress.max = size;\n",
              "      div.appendChild(progress);\n",
              "      document.body.appendChild(div);\n",
              "\n",
              "      const buffers = [];\n",
              "      let downloaded = 0;\n",
              "\n",
              "      const channel = await google.colab.kernel.comms.open(id);\n",
              "      // Send a message to notify the kernel that we're ready.\n",
              "      channel.send({})\n",
              "\n",
              "      for await (const message of channel.messages) {\n",
              "        // Send a message to notify the kernel that we're ready.\n",
              "        channel.send({})\n",
              "        if (message.buffers) {\n",
              "          for (const buffer of message.buffers) {\n",
              "            buffers.push(buffer);\n",
              "            downloaded += buffer.byteLength;\n",
              "            progress.value = downloaded;\n",
              "          }\n",
              "        }\n",
              "      }\n",
              "      const blob = new Blob(buffers, {type: 'application/binary'});\n",
              "      const a = document.createElement('a');\n",
              "      a.href = window.URL.createObjectURL(blob);\n",
              "      a.download = filename;\n",
              "      div.appendChild(a);\n",
              "      a.click();\n",
              "      div.remove();\n",
              "    }\n",
              "  "
            ]
          },
          "metadata": {}
        },
        {
          "output_type": "display_data",
          "data": {
            "text/plain": [
              "<IPython.core.display.Javascript object>"
            ],
            "application/javascript": [
              "download(\"download_8ffb4e2f-5e2e-4407-99a2-a71858c57241\", \"lstm_feature_importance.png\", 114277)"
            ]
          },
          "metadata": {}
        }
      ]
    },
    {
      "cell_type": "markdown",
      "source": [
        "# Addition\n",
        "1. Extracting the RMSE score based on the city\n",
        "2. Extracting the Visual Error Analysis\n",
        "3. Identify the training time and inference time of the LSTM model\n",
        "4. Identify the memory usage of the LSTM model  "
      ],
      "metadata": {
        "id": "QRYVyPCnKc6o"
      }
    },
    {
      "cell_type": "code",
      "source": [
        "df_test_seq = df.iloc[data_split + window:].copy().reset_index(drop=True)\n",
        "df_test_seq['y_true'] = y_test_inverse.flatten()\n",
        "df_test_seq['y_pred'] = y_test_pred_inv.flatten()"
      ],
      "metadata": {
        "id": "QHmm_oWpKYof"
      },
      "execution_count": 123,
      "outputs": []
    },
    {
      "cell_type": "code",
      "source": [
        "city_columns = ['city_Delhi', 'city_Helsinki', 'city_Jakarta']\n",
        "df_test_seq['city'] = df_test_seq[city_columns].idxmax(axis=1).str.replace('city_', '')"
      ],
      "metadata": {
        "id": "8U8URL4_g5sw"
      },
      "execution_count": 124,
      "outputs": []
    },
    {
      "cell_type": "code",
      "source": [
        "city_rmse = df_test_seq.groupby('city').apply(lambda g: root_mean_squared_error(g['y_true'], g['y_pred']))\n",
        "city_rmse"
      ],
      "metadata": {
        "id": "XP96SWZnKjGT",
        "colab": {
          "base_uri": "https://localhost:8080/",
          "height": 264
        },
        "outputId": "28f86006-1054-447c-ef41-8773dde709ef"
      },
      "execution_count": 122,
      "outputs": [
        {
          "output_type": "stream",
          "name": "stderr",
          "text": [
            "/tmp/ipython-input-122-168276946.py:1: DeprecationWarning: DataFrameGroupBy.apply operated on the grouping columns. This behavior is deprecated, and in a future version of pandas the grouping columns will be excluded from the operation. Either pass `include_groups=False` to exclude the groupings or explicitly select the grouping columns after groupby to silence this warning.\n",
            "  city_rmse = df_test_seq.groupby('city').apply(lambda g: root_mean_squared_error(g['y_true'], g['y_pred']))\n"
          ]
        },
        {
          "output_type": "execute_result",
          "data": {
            "text/plain": [
              "city\n",
              "Delhi       0.553354\n",
              "Helsinki    0.052730\n",
              "Jakarta     0.134039\n",
              "dtype: float64"
            ],
            "text/html": [
              "<div>\n",
              "<style scoped>\n",
              "    .dataframe tbody tr th:only-of-type {\n",
              "        vertical-align: middle;\n",
              "    }\n",
              "\n",
              "    .dataframe tbody tr th {\n",
              "        vertical-align: top;\n",
              "    }\n",
              "\n",
              "    .dataframe thead th {\n",
              "        text-align: right;\n",
              "    }\n",
              "</style>\n",
              "<table border=\"1\" class=\"dataframe\">\n",
              "  <thead>\n",
              "    <tr style=\"text-align: right;\">\n",
              "      <th></th>\n",
              "      <th>0</th>\n",
              "    </tr>\n",
              "    <tr>\n",
              "      <th>city</th>\n",
              "      <th></th>\n",
              "    </tr>\n",
              "  </thead>\n",
              "  <tbody>\n",
              "    <tr>\n",
              "      <th>Delhi</th>\n",
              "      <td>0.553354</td>\n",
              "    </tr>\n",
              "    <tr>\n",
              "      <th>Helsinki</th>\n",
              "      <td>0.052730</td>\n",
              "    </tr>\n",
              "    <tr>\n",
              "      <th>Jakarta</th>\n",
              "      <td>0.134039</td>\n",
              "    </tr>\n",
              "  </tbody>\n",
              "</table>\n",
              "</div><br><label><b>dtype:</b> float64</label>"
            ]
          },
          "metadata": {},
          "execution_count": 122
        }
      ]
    },
    {
      "cell_type": "code",
      "source": [
        "training_time = training_end - training_start\n",
        "inference_time = inference_end - inference_start\n",
        "memory = psutil.Process(os.getpid()).memory_info().rss / 1024 ** 2"
      ],
      "metadata": {
        "id": "dzxf7K71K9Jo"
      },
      "execution_count": 125,
      "outputs": []
    },
    {
      "cell_type": "code",
      "source": [
        "print(\"Training Time (s): \", training_time)\n",
        "print(\"Inference Time (s): \", inference_time)\n",
        "print(\"Memory Used: \", memory)"
      ],
      "metadata": {
        "id": "RbXAGTq7NU7R",
        "colab": {
          "base_uri": "https://localhost:8080/"
        },
        "outputId": "d3f82cd2-a774-4789-f88d-438f6faf1f36"
      },
      "execution_count": 126,
      "outputs": [
        {
          "output_type": "stream",
          "name": "stdout",
          "text": [
            "Training Time (s):  907.4608359336853\n",
            "Inference Time (s):  1.7679274082183838\n",
            "Memory Used:  2081.68359375\n"
          ]
        }
      ]
    },
    {
      "cell_type": "code",
      "source": [
        "error_df = pd.DataFrame({\n",
        "    'True_PM2.5': y_test_inverse.flatten(),\n",
        "    'Predicted_PM2.5': y_test_pred_inv.flatten()\n",
        "})"
      ],
      "metadata": {
        "id": "RVtW2oBmhDAO"
      },
      "execution_count": 127,
      "outputs": []
    },
    {
      "cell_type": "code",
      "source": [
        "error_df['Residual'] = error_df['True_PM2.5'] - error_df['Predicted_PM2.5']"
      ],
      "metadata": {
        "id": "lVa8Ad69hPG5"
      },
      "execution_count": 128,
      "outputs": []
    },
    {
      "cell_type": "code",
      "source": [
        "threshold_95 = error_df['True_PM2.5'].quantile(0.95)"
      ],
      "metadata": {
        "id": "dhRsRVXThP_w"
      },
      "execution_count": 129,
      "outputs": []
    },
    {
      "cell_type": "code",
      "source": [
        "error_df['Outlier_Label'] = np.where(error_df['True_PM2.5'] >= threshold_95, 'Outlier', 'Non-Outlier')"
      ],
      "metadata": {
        "id": "JHCcdMfbhQnq"
      },
      "execution_count": 130,
      "outputs": []
    },
    {
      "cell_type": "code",
      "source": [
        "error_df['True_PM2.5_Scaled'] = error_df['True_PM2.5'] * 1e7"
      ],
      "metadata": {
        "id": "ggbijuW_hR67"
      },
      "execution_count": 131,
      "outputs": []
    },
    {
      "cell_type": "code",
      "source": [
        "plt.figure(figsize=(10, 6))\n",
        "sns.scatterplot(data=error_df, x='True_PM2.5_Scaled', y='Residual',\n",
        "                hue='Outlier_Label', palette={'Non-Outlier': 'blue', 'Outlier': 'red'}, alpha=0.8)\n",
        "\n",
        "plt.axhline(0, color='gray', linestyle='--', linewidth=1)\n",
        "plt.xlabel(\"PM2.5 (multiplied with 1e7)\")\n",
        "plt.ylabel(\"Residual\")\n",
        "plt.legend(title='Outlier_Label')\n",
        "plt.tight_layout()\n",
        "plt.savefig(\"LSTM_Residual_Visual_Error_Analysis.png\", dpi=300, bbox_inches='tight')\n",
        "plt.show()"
      ],
      "metadata": {
        "colab": {
          "base_uri": "https://localhost:8080/",
          "height": 497
        },
        "id": "Lr-vO4GJhS2s",
        "outputId": "839aecb2-5573-42ee-ccdd-927aab6f8dff"
      },
      "execution_count": 135,
      "outputs": [
        {
          "output_type": "display_data",
          "data": {
            "text/plain": [
              "<Figure size 1000x600 with 1 Axes>"
            ],
            "image/png": "[encoded data removed]"
          },
          "metadata": {}
        }
      ]
    }
  ]
}