{
  "nbformat": 4,
  "nbformat_minor": 0,
  "metadata": {
    "colab": {
      "provenance": []
    },
    "kernelspec": {
      "name": "python3",
      "display_name": "Python 3"
    },
    "language_info": {
      "name": "python"
    }
  },
  "cells": [
    {
      "cell_type": "code",
      "execution_count": 1,
      "metadata": {
        "id": "2nzCE1D6-JGX"
      },
      "outputs": [],
      "source": [
        "from scipy.stats import ttest_rel"
      ]
    },
    {
      "cell_type": "code",
      "source": [
        "xgboost_rmse = [0.318850, 0.023755, 0.075939]\n",
        "lstm_rmse = [0.553354, 0.052730, 0.134039]\n",
        "informer_rmse = [0.074741, 0.005335, 0.015015]"
      ],
      "metadata": {
        "id": "q0wZlo1g-wgn"
      },
      "execution_count": 2,
      "outputs": []
    },
    {
      "cell_type": "code",
      "source": [
        "t1, p1 = ttest_rel(xgboost_rmse, lstm_rmse)\n",
        "t2, p2 = ttest_rel(xgboost_rmse, informer_rmse)\n",
        "t3, p3 = ttest_rel(lstm_rmse, informer_rmse)"
      ],
      "metadata": {
        "id": "Ua79HHQSDE58"
      },
      "execution_count": 3,
      "outputs": []
    },
    {
      "cell_type": "code",
      "source": [
        "print(\"XGBoost vs LSTM t-statistic:\", t1)\n",
        "print(\"XGBoost vs LSTM p-value:\", p1)\n",
        "\n",
        "print(\"XGBoost vs Informer t-statistic:\", t2)\n",
        "print(\"XGBoost vs Informer p-value:\", p2)\n",
        "\n",
        "print(\"LSTM vs Informer t-statistic:\", t3)\n",
        "print(\"LSTM vs Informer p-value:\", p3)"
      ],
      "metadata": {
        "colab": {
          "base_uri": "https://localhost:8080/"
        },
        "id": "Aa89X_hvDnVJ",
        "outputId": "22f36fff-f2b1-4c55-f97e-59f01c961fed"
      },
      "execution_count": 4,
      "outputs": [
        {
          "output_type": "stream",
          "name": "stdout",
          "text": [
            "XGBoost vs LSTM t-statistic: -1.6694559112059324\n",
            "XGBoost vs LSTM p-value: 0.23697375936529452\n",
            "XGBoost vs Informer t-statistic: 1.557125635144087\n",
            "XGBoost vs Informer p-value: 0.25973933663635024\n",
            "LSTM vs Informer t-statistic: 1.6116135078264981\n",
            "LSTM vs Informer p-value: 0.24836054985691167\n"
          ]
        }
      ]
    }
  ]
}